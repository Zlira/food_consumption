{
 "cells": [
  {
   "cell_type": "code",
   "execution_count": 1,
   "metadata": {
    "collapsed": true
   },
   "outputs": [],
   "source": [
    "from functools import partial\n",
    "from itertools import chain\n",
    "from itertools import product\n",
    "\n",
    "import pandas as pd\n",
    "from statsmodels.regression.linear_model import OLS\n",
    "import matplotlib\n",
    "import matplotlib.pyplot as plt\n",
    "import numpy as np"
   ]
  },
  {
   "cell_type": "code",
   "execution_count": 2,
   "metadata": {
    "collapsed": true
   },
   "outputs": [],
   "source": [
    "%matplotlib inline\n",
    "\n",
    "plt.rcParams['figure.figsize'] = (16, 7)\n",
    "plt.rcParams['font.family'] = 'sans-serif'\n",
    "plt.rcParams['font.sans-serif'] = ['PT Sans']\n",
    "\n",
    "matplotlib.style.use('fivethirtyeight')"
   ]
  },
  {
   "cell_type": "markdown",
   "metadata": {},
   "source": [
    "## Прочитати дані"
   ]
  },
  {
   "cell_type": "code",
   "execution_count": 3,
   "metadata": {
    "collapsed": true
   },
   "outputs": [],
   "source": [
    "faostat_data = pd.read_csv('./FAOSTAT_data_8-12-2017_agg.csv')\n",
    "euroind_data = pd.read_csv('./ObservationData_nbfchqe.csv')\n",
    "who_data = pd.read_csv('./NCD_BMI_MEAN.csv', header=[1, 3])\n",
    "ers_official = pd.read_csv('./ers_2013.csv')"
   ]
  },
  {
   "cell_type": "code",
   "execution_count": 4,
   "metadata": {
    "collapsed": true
   },
   "outputs": [],
   "source": [
    "def clean_who_header(who_df):\n",
    "    who_df.columns = who_df.columns.swaplevel()\n",
    "    who_df.index =  list(who_df['Country', 'Unnamed: 0_level_0'])\n",
    "    who_df.drop('Country', axis=1, inplace=True)\n",
    "    who_df.columns = who_df.columns.swaplevel()\n",
    "    return (who_df\n",
    "            [~(who_df == 'No data').any(axis=1)]  ## this is ok\n",
    "            .apply(lambda x: x.apply(lambda y: float(y.split(' [')[0]))))"
   ]
  },
  {
   "cell_type": "code",
   "execution_count": 5,
   "metadata": {},
   "outputs": [
    {
     "name": "stderr",
     "output_type": "stream",
     "text": [
      "/home/zlira/.virtualenvs/food/lib/python3.6/site-packages/ipykernel_launcher.py:4: PerformanceWarning: dropping on a non-lexsorted multi-index without a level parameter may impact performance.\n",
      "  after removing the cwd from sys.path.\n"
     ]
    }
   ],
   "source": [
    "who_data = clean_who_header(who_data)"
   ]
  },
  {
   "cell_type": "code",
   "execution_count": 6,
   "metadata": {},
   "outputs": [
    {
     "data": {
      "text/html": [
       "<div>\n",
       "<style>\n",
       "    .dataframe thead tr:only-child th {\n",
       "        text-align: right;\n",
       "    }\n",
       "\n",
       "    .dataframe thead th {\n",
       "        text-align: left;\n",
       "    }\n",
       "\n",
       "    .dataframe tbody tr th {\n",
       "        vertical-align: top;\n",
       "    }\n",
       "</style>\n",
       "<table border=\"1\" class=\"dataframe\">\n",
       "  <thead>\n",
       "    <tr>\n",
       "      <th></th>\n",
       "      <th colspan=\"2\" halign=\"left\">2014</th>\n",
       "      <th colspan=\"2\" halign=\"left\">2013</th>\n",
       "      <th colspan=\"2\" halign=\"left\">2012</th>\n",
       "      <th colspan=\"2\" halign=\"left\">2011</th>\n",
       "      <th colspan=\"2\" halign=\"left\">2010</th>\n",
       "      <th>...</th>\n",
       "      <th colspan=\"2\" halign=\"left\">1979</th>\n",
       "      <th colspan=\"2\" halign=\"left\">1978</th>\n",
       "      <th colspan=\"2\" halign=\"left\">1977</th>\n",
       "      <th colspan=\"2\" halign=\"left\">1976</th>\n",
       "      <th colspan=\"2\" halign=\"left\">1975</th>\n",
       "    </tr>\n",
       "    <tr>\n",
       "      <th></th>\n",
       "      <th>Male</th>\n",
       "      <th>Female</th>\n",
       "      <th>Male</th>\n",
       "      <th>Female</th>\n",
       "      <th>Male</th>\n",
       "      <th>Female</th>\n",
       "      <th>Male</th>\n",
       "      <th>Female</th>\n",
       "      <th>Male</th>\n",
       "      <th>Female</th>\n",
       "      <th>...</th>\n",
       "      <th>Male</th>\n",
       "      <th>Female</th>\n",
       "      <th>Male</th>\n",
       "      <th>Female</th>\n",
       "      <th>Male</th>\n",
       "      <th>Female</th>\n",
       "      <th>Male</th>\n",
       "      <th>Female</th>\n",
       "      <th>Male</th>\n",
       "      <th>Female</th>\n",
       "    </tr>\n",
       "  </thead>\n",
       "  <tbody>\n",
       "    <tr>\n",
       "      <th>Afghanistan</th>\n",
       "      <td>21.6</td>\n",
       "      <td>23.7</td>\n",
       "      <td>21.5</td>\n",
       "      <td>23.5</td>\n",
       "      <td>21.4</td>\n",
       "      <td>23.4</td>\n",
       "      <td>21.4</td>\n",
       "      <td>23.3</td>\n",
       "      <td>21.3</td>\n",
       "      <td>23.1</td>\n",
       "      <td>...</td>\n",
       "      <td>19.7</td>\n",
       "      <td>19.9</td>\n",
       "      <td>19.7</td>\n",
       "      <td>19.8</td>\n",
       "      <td>19.6</td>\n",
       "      <td>19.6</td>\n",
       "      <td>19.5</td>\n",
       "      <td>19.5</td>\n",
       "      <td>19.5</td>\n",
       "      <td>19.4</td>\n",
       "    </tr>\n",
       "    <tr>\n",
       "      <th>Albania</th>\n",
       "      <td>26.5</td>\n",
       "      <td>25.7</td>\n",
       "      <td>26.5</td>\n",
       "      <td>25.7</td>\n",
       "      <td>26.4</td>\n",
       "      <td>25.7</td>\n",
       "      <td>26.3</td>\n",
       "      <td>25.6</td>\n",
       "      <td>26.2</td>\n",
       "      <td>25.6</td>\n",
       "      <td>...</td>\n",
       "      <td>24.0</td>\n",
       "      <td>24.3</td>\n",
       "      <td>24.0</td>\n",
       "      <td>24.3</td>\n",
       "      <td>23.9</td>\n",
       "      <td>24.2</td>\n",
       "      <td>23.8</td>\n",
       "      <td>24.2</td>\n",
       "      <td>23.7</td>\n",
       "      <td>24.1</td>\n",
       "    </tr>\n",
       "    <tr>\n",
       "      <th>Algeria</th>\n",
       "      <td>24.3</td>\n",
       "      <td>26.0</td>\n",
       "      <td>24.2</td>\n",
       "      <td>25.9</td>\n",
       "      <td>24.2</td>\n",
       "      <td>25.9</td>\n",
       "      <td>24.1</td>\n",
       "      <td>25.8</td>\n",
       "      <td>24.1</td>\n",
       "      <td>25.8</td>\n",
       "      <td>...</td>\n",
       "      <td>21.8</td>\n",
       "      <td>23.6</td>\n",
       "      <td>21.7</td>\n",
       "      <td>23.6</td>\n",
       "      <td>21.6</td>\n",
       "      <td>23.5</td>\n",
       "      <td>21.5</td>\n",
       "      <td>23.4</td>\n",
       "      <td>21.4</td>\n",
       "      <td>23.3</td>\n",
       "    </tr>\n",
       "    <tr>\n",
       "      <th>Andorra</th>\n",
       "      <td>27.7</td>\n",
       "      <td>26.6</td>\n",
       "      <td>27.6</td>\n",
       "      <td>26.6</td>\n",
       "      <td>27.6</td>\n",
       "      <td>26.6</td>\n",
       "      <td>27.6</td>\n",
       "      <td>26.7</td>\n",
       "      <td>27.5</td>\n",
       "      <td>26.7</td>\n",
       "      <td>...</td>\n",
       "      <td>25.5</td>\n",
       "      <td>26.4</td>\n",
       "      <td>25.5</td>\n",
       "      <td>26.4</td>\n",
       "      <td>25.4</td>\n",
       "      <td>26.3</td>\n",
       "      <td>25.3</td>\n",
       "      <td>26.3</td>\n",
       "      <td>25.2</td>\n",
       "      <td>26.2</td>\n",
       "    </tr>\n",
       "    <tr>\n",
       "      <th>Angola</th>\n",
       "      <td>22.8</td>\n",
       "      <td>24.1</td>\n",
       "      <td>22.7</td>\n",
       "      <td>24.0</td>\n",
       "      <td>22.6</td>\n",
       "      <td>23.9</td>\n",
       "      <td>22.5</td>\n",
       "      <td>23.8</td>\n",
       "      <td>22.4</td>\n",
       "      <td>23.6</td>\n",
       "      <td>...</td>\n",
       "      <td>20.2</td>\n",
       "      <td>20.0</td>\n",
       "      <td>20.2</td>\n",
       "      <td>19.9</td>\n",
       "      <td>20.1</td>\n",
       "      <td>19.8</td>\n",
       "      <td>20.0</td>\n",
       "      <td>19.7</td>\n",
       "      <td>19.9</td>\n",
       "      <td>19.6</td>\n",
       "    </tr>\n",
       "  </tbody>\n",
       "</table>\n",
       "<p>5 rows × 80 columns</p>\n",
       "</div>"
      ],
      "text/plain": [
       "             2014          2013          2012          2011          2010  \\\n",
       "             Male  Female  Male  Female  Male  Female  Male  Female  Male   \n",
       "Afghanistan  21.6    23.7  21.5    23.5  21.4    23.4  21.4    23.3  21.3   \n",
       "Albania      26.5    25.7  26.5    25.7  26.4    25.7  26.3    25.6  26.2   \n",
       "Algeria      24.3    26.0  24.2    25.9  24.2    25.9  24.1    25.8  24.1   \n",
       "Andorra      27.7    26.6  27.6    26.6  27.6    26.6  27.6    26.7  27.5   \n",
       "Angola       22.8    24.1  22.7    24.0  22.6    23.9  22.5    23.8  22.4   \n",
       "\n",
       "                      ...    1979          1978          1977          1976  \\\n",
       "             Female   ...    Male  Female  Male  Female  Male  Female  Male   \n",
       "Afghanistan    23.1   ...    19.7    19.9  19.7    19.8  19.6    19.6  19.5   \n",
       "Albania        25.6   ...    24.0    24.3  24.0    24.3  23.9    24.2  23.8   \n",
       "Algeria        25.8   ...    21.8    23.6  21.7    23.6  21.6    23.5  21.5   \n",
       "Andorra        26.7   ...    25.5    26.4  25.5    26.4  25.4    26.3  25.3   \n",
       "Angola         23.6   ...    20.2    20.0  20.2    19.9  20.1    19.8  20.0   \n",
       "\n",
       "                     1975          \n",
       "             Female  Male  Female  \n",
       "Afghanistan    19.5  19.5    19.4  \n",
       "Albania        24.2  23.7    24.1  \n",
       "Algeria        23.4  21.4    23.3  \n",
       "Andorra        26.3  25.2    26.2  \n",
       "Angola         19.7  19.9    19.6  \n",
       "\n",
       "[5 rows x 80 columns]"
      ]
     },
     "execution_count": 6,
     "metadata": {},
     "output_type": "execute_result"
    }
   ],
   "source": [
    "who_data.head()"
   ]
  },
  {
   "cell_type": "code",
   "execution_count": 7,
   "metadata": {},
   "outputs": [
    {
     "data": {
      "text/html": [
       "<div>\n",
       "<style>\n",
       "    .dataframe thead tr:only-child th {\n",
       "        text-align: right;\n",
       "    }\n",
       "\n",
       "    .dataframe thead th {\n",
       "        text-align: left;\n",
       "    }\n",
       "\n",
       "    .dataframe tbody tr th {\n",
       "        vertical-align: top;\n",
       "    }\n",
       "</style>\n",
       "<table border=\"1\" class=\"dataframe\">\n",
       "  <thead>\n",
       "    <tr style=\"text-align: right;\">\n",
       "      <th></th>\n",
       "      <th>Domain Code</th>\n",
       "      <th>Domain</th>\n",
       "      <th>Country Code</th>\n",
       "      <th>Country</th>\n",
       "      <th>Element Code</th>\n",
       "      <th>Element</th>\n",
       "      <th>Item Code</th>\n",
       "      <th>Item</th>\n",
       "      <th>Year Code</th>\n",
       "      <th>Year</th>\n",
       "      <th>Unit</th>\n",
       "      <th>Value</th>\n",
       "      <th>Flag</th>\n",
       "      <th>Flag Description</th>\n",
       "    </tr>\n",
       "  </thead>\n",
       "  <tbody>\n",
       "    <tr>\n",
       "      <th>0</th>\n",
       "      <td>FBS</td>\n",
       "      <td>Food Balance Sheets</td>\n",
       "      <td>2</td>\n",
       "      <td>Afghanistan</td>\n",
       "      <td>664</td>\n",
       "      <td>Food supply (kcal/capita/day)</td>\n",
       "      <td>2901</td>\n",
       "      <td>Grand Total</td>\n",
       "      <td>2013</td>\n",
       "      <td>2013</td>\n",
       "      <td>kcal/capita/day</td>\n",
       "      <td>2090.00</td>\n",
       "      <td>Fc</td>\n",
       "      <td>Calculated data</td>\n",
       "    </tr>\n",
       "    <tr>\n",
       "      <th>1</th>\n",
       "      <td>FBS</td>\n",
       "      <td>Food Balance Sheets</td>\n",
       "      <td>2</td>\n",
       "      <td>Afghanistan</td>\n",
       "      <td>674</td>\n",
       "      <td>Protein supply quantity (g/capita/day)</td>\n",
       "      <td>2901</td>\n",
       "      <td>Grand Total</td>\n",
       "      <td>2013</td>\n",
       "      <td>2013</td>\n",
       "      <td>g/capita/day</td>\n",
       "      <td>58.25</td>\n",
       "      <td>Fc</td>\n",
       "      <td>Calculated data</td>\n",
       "    </tr>\n",
       "    <tr>\n",
       "      <th>2</th>\n",
       "      <td>FBS</td>\n",
       "      <td>Food Balance Sheets</td>\n",
       "      <td>2</td>\n",
       "      <td>Afghanistan</td>\n",
       "      <td>684</td>\n",
       "      <td>Fat supply quantity (g/capita/day)</td>\n",
       "      <td>2901</td>\n",
       "      <td>Grand Total</td>\n",
       "      <td>2013</td>\n",
       "      <td>2013</td>\n",
       "      <td>g/capita/day</td>\n",
       "      <td>33.52</td>\n",
       "      <td>Fc</td>\n",
       "      <td>Calculated data</td>\n",
       "    </tr>\n",
       "    <tr>\n",
       "      <th>3</th>\n",
       "      <td>FBS</td>\n",
       "      <td>Food Balance Sheets</td>\n",
       "      <td>2</td>\n",
       "      <td>Afghanistan</td>\n",
       "      <td>664</td>\n",
       "      <td>Food supply (kcal/capita/day)</td>\n",
       "      <td>2903</td>\n",
       "      <td>Vegetal Products</td>\n",
       "      <td>2013</td>\n",
       "      <td>2013</td>\n",
       "      <td>kcal/capita/day</td>\n",
       "      <td>1873.00</td>\n",
       "      <td>Fc</td>\n",
       "      <td>Calculated data</td>\n",
       "    </tr>\n",
       "    <tr>\n",
       "      <th>4</th>\n",
       "      <td>FBS</td>\n",
       "      <td>Food Balance Sheets</td>\n",
       "      <td>2</td>\n",
       "      <td>Afghanistan</td>\n",
       "      <td>674</td>\n",
       "      <td>Protein supply quantity (g/capita/day)</td>\n",
       "      <td>2903</td>\n",
       "      <td>Vegetal Products</td>\n",
       "      <td>2013</td>\n",
       "      <td>2013</td>\n",
       "      <td>g/capita/day</td>\n",
       "      <td>46.03</td>\n",
       "      <td>Fc</td>\n",
       "      <td>Calculated data</td>\n",
       "    </tr>\n",
       "  </tbody>\n",
       "</table>\n",
       "</div>"
      ],
      "text/plain": [
       "  Domain Code               Domain  Country Code      Country  Element Code  \\\n",
       "0         FBS  Food Balance Sheets             2  Afghanistan           664   \n",
       "1         FBS  Food Balance Sheets             2  Afghanistan           674   \n",
       "2         FBS  Food Balance Sheets             2  Afghanistan           684   \n",
       "3         FBS  Food Balance Sheets             2  Afghanistan           664   \n",
       "4         FBS  Food Balance Sheets             2  Afghanistan           674   \n",
       "\n",
       "                                  Element  Item Code              Item  \\\n",
       "0           Food supply (kcal/capita/day)       2901       Grand Total   \n",
       "1  Protein supply quantity (g/capita/day)       2901       Grand Total   \n",
       "2      Fat supply quantity (g/capita/day)       2901       Grand Total   \n",
       "3           Food supply (kcal/capita/day)       2903  Vegetal Products   \n",
       "4  Protein supply quantity (g/capita/day)       2903  Vegetal Products   \n",
       "\n",
       "   Year Code  Year             Unit    Value Flag Flag Description  \n",
       "0       2013  2013  kcal/capita/day  2090.00   Fc  Calculated data  \n",
       "1       2013  2013     g/capita/day    58.25   Fc  Calculated data  \n",
       "2       2013  2013     g/capita/day    33.52   Fc  Calculated data  \n",
       "3       2013  2013  kcal/capita/day  1873.00   Fc  Calculated data  \n",
       "4       2013  2013     g/capita/day    46.03   Fc  Calculated data  "
      ]
     },
     "execution_count": 7,
     "metadata": {},
     "output_type": "execute_result"
    }
   ],
   "source": [
    "faostat_data.head()"
   ]
  },
  {
   "cell_type": "code",
   "execution_count": 8,
   "metadata": {},
   "outputs": [
    {
     "data": {
      "text/html": [
       "<div>\n",
       "<style>\n",
       "    .dataframe thead tr:only-child th {\n",
       "        text-align: right;\n",
       "    }\n",
       "\n",
       "    .dataframe thead th {\n",
       "        text-align: left;\n",
       "    }\n",
       "\n",
       "    .dataframe tbody tr th {\n",
       "        vertical-align: top;\n",
       "    }\n",
       "</style>\n",
       "<table border=\"1\" class=\"dataframe\">\n",
       "  <thead>\n",
       "    <tr style=\"text-align: right;\">\n",
       "      <th></th>\n",
       "      <th>country</th>\n",
       "      <th>indicator</th>\n",
       "      <th>Unit</th>\n",
       "      <th>Date</th>\n",
       "      <th>Value</th>\n",
       "    </tr>\n",
       "  </thead>\n",
       "  <tbody>\n",
       "    <tr>\n",
       "      <th>0</th>\n",
       "      <td>Ukraine</td>\n",
       "      <td>Food</td>\n",
       "      <td>Percent</td>\n",
       "      <td>2009</td>\n",
       "      <td>37.600000</td>\n",
       "    </tr>\n",
       "    <tr>\n",
       "      <th>1</th>\n",
       "      <td>Ukraine</td>\n",
       "      <td>Food</td>\n",
       "      <td>Percent</td>\n",
       "      <td>2010</td>\n",
       "      <td>39.400000</td>\n",
       "    </tr>\n",
       "    <tr>\n",
       "      <th>2</th>\n",
       "      <td>Ukraine</td>\n",
       "      <td>Food</td>\n",
       "      <td>Percent</td>\n",
       "      <td>2011</td>\n",
       "      <td>37.286560</td>\n",
       "    </tr>\n",
       "    <tr>\n",
       "      <th>3</th>\n",
       "      <td>Ukraine</td>\n",
       "      <td>Food</td>\n",
       "      <td>Percent</td>\n",
       "      <td>2012</td>\n",
       "      <td>37.143402</td>\n",
       "    </tr>\n",
       "    <tr>\n",
       "      <th>4</th>\n",
       "      <td>Ukraine</td>\n",
       "      <td>Food</td>\n",
       "      <td>Percent</td>\n",
       "      <td>2013</td>\n",
       "      <td>37.671493</td>\n",
       "    </tr>\n",
       "  </tbody>\n",
       "</table>\n",
       "</div>"
      ],
      "text/plain": [
       "   country indicator     Unit  Date      Value\n",
       "0  Ukraine      Food  Percent  2009  37.600000\n",
       "1  Ukraine      Food  Percent  2010  39.400000\n",
       "2  Ukraine      Food  Percent  2011  37.286560\n",
       "3  Ukraine      Food  Percent  2012  37.143402\n",
       "4  Ukraine      Food  Percent  2013  37.671493"
      ]
     },
     "execution_count": 8,
     "metadata": {},
     "output_type": "execute_result"
    }
   ],
   "source": [
    "euroind_data.head()"
   ]
  },
  {
   "cell_type": "code",
   "execution_count": 9,
   "metadata": {
    "collapsed": true
   },
   "outputs": [],
   "source": [
    "ers_official.columns = ['Country', 'TotalExp', 'FoodExp']\n",
    "ers_official.set_index('Country', inplace=True)"
   ]
  },
  {
   "cell_type": "markdown",
   "metadata": {},
   "source": [
    "## Уніфікувати назви країн"
   ]
  },
  {
   "cell_type": "code",
   "execution_count": 10,
   "metadata": {
    "collapsed": true
   },
   "outputs": [],
   "source": [
    "faostat_countries = set(faostat_data.Country)\n",
    "euroind_countries = set(euroind_data.country)\n",
    "who_countries = set(who_data.index)\n",
    "ers_coutries = set(ers_official.index)"
   ]
  },
  {
   "cell_type": "code",
   "execution_count": 11,
   "metadata": {},
   "outputs": [
    {
     "name": "stdout",
     "output_type": "stream",
     "text": [
      "175\n",
      "86\n",
      "191\n"
     ]
    }
   ],
   "source": [
    "print(len(faostat_countries))\n",
    "print(len(euroind_countries))\n",
    "print(len(who_countries))"
   ]
  },
  {
   "cell_type": "code",
   "execution_count": 12,
   "metadata": {},
   "outputs": [
    {
     "data": {
      "text/plain": [
       "{'United States'}"
      ]
     },
     "execution_count": 12,
     "metadata": {},
     "output_type": "execute_result"
    }
   ],
   "source": [
    "euroind_countries - ers_coutries"
   ]
  },
  {
   "cell_type": "code",
   "execution_count": 13,
   "metadata": {},
   "outputs": [
    {
     "data": {
      "text/plain": [
       "{'USA'}"
      ]
     },
     "execution_count": 13,
     "metadata": {},
     "output_type": "execute_result"
    }
   ],
   "source": [
    "ers_coutries - euroind_countries"
   ]
  },
  {
   "cell_type": "code",
   "execution_count": 14,
   "metadata": {},
   "outputs": [
    {
     "data": {
      "text/plain": [
       "{'Afghanistan',\n",
       " 'Albania',\n",
       " 'Angola',\n",
       " 'Antigua and Barbuda',\n",
       " 'Armenia',\n",
       " 'Bahamas',\n",
       " 'Bangladesh',\n",
       " 'Barbados',\n",
       " 'Belize',\n",
       " 'Benin',\n",
       " 'Bermuda',\n",
       " 'Bolivia (Plurinational State of)',\n",
       " 'Bosnia and Herzegovina',\n",
       " 'Botswana',\n",
       " 'Brunei Darussalam',\n",
       " 'Burkina Faso',\n",
       " 'Cabo Verde',\n",
       " 'Cambodia',\n",
       " 'Central African Republic',\n",
       " 'Chad',\n",
       " 'China, Hong Kong SAR',\n",
       " 'China, Macao SAR',\n",
       " 'China, Taiwan Province of',\n",
       " 'China, mainland',\n",
       " 'Congo',\n",
       " 'Cuba',\n",
       " 'Cyprus',\n",
       " 'Czechia',\n",
       " \"Côte d'Ivoire\",\n",
       " \"Democratic People's Republic of Korea\",\n",
       " 'Djibouti',\n",
       " 'Dominica',\n",
       " 'El Salvador',\n",
       " 'Ethiopia',\n",
       " 'Fiji',\n",
       " 'French Polynesia',\n",
       " 'Gabon',\n",
       " 'Gambia',\n",
       " 'Ghana',\n",
       " 'Grenada',\n",
       " 'Guinea',\n",
       " 'Guinea-Bissau',\n",
       " 'Guyana',\n",
       " 'Haiti',\n",
       " 'Honduras',\n",
       " 'Iceland',\n",
       " 'Iran (Islamic Republic of)',\n",
       " 'Iraq',\n",
       " 'Jamaica',\n",
       " 'Kiribati',\n",
       " 'Kyrgyzstan',\n",
       " \"Lao People's Democratic Republic\",\n",
       " 'Lebanon',\n",
       " 'Lesotho',\n",
       " 'Liberia',\n",
       " 'Luxembourg',\n",
       " 'Madagascar',\n",
       " 'Malawi',\n",
       " 'Maldives',\n",
       " 'Mali',\n",
       " 'Malta',\n",
       " 'Mauritania',\n",
       " 'Mauritius',\n",
       " 'Mongolia',\n",
       " 'Mozambique',\n",
       " 'Myanmar',\n",
       " 'Namibia',\n",
       " 'Nepal',\n",
       " 'New Caledonia',\n",
       " 'Nicaragua',\n",
       " 'Niger',\n",
       " 'Oman',\n",
       " 'Panama',\n",
       " 'Paraguay',\n",
       " 'Republic of Korea',\n",
       " 'Republic of Moldova',\n",
       " 'Russian Federation',\n",
       " 'Rwanda',\n",
       " 'Saint Kitts and Nevis',\n",
       " 'Saint Lucia',\n",
       " 'Saint Vincent and the Grenadines',\n",
       " 'Samoa',\n",
       " 'Sao Tome and Principe',\n",
       " 'Senegal',\n",
       " 'Sierra Leone',\n",
       " 'Solomon Islands',\n",
       " 'Sri Lanka',\n",
       " 'Sudan',\n",
       " 'Suriname',\n",
       " 'Swaziland',\n",
       " 'Tajikistan',\n",
       " 'The former Yugoslav Republic of Macedonia',\n",
       " 'Timor-Leste',\n",
       " 'Togo',\n",
       " 'Trinidad and Tobago',\n",
       " 'Uganda',\n",
       " 'United Republic of Tanzania',\n",
       " 'United States of America',\n",
       " 'Vanuatu',\n",
       " 'Venezuela (Bolivarian Republic of)',\n",
       " 'Viet Nam',\n",
       " 'Yemen',\n",
       " 'Zambia',\n",
       " 'Zimbabwe'}"
      ]
     },
     "execution_count": 14,
     "metadata": {},
     "output_type": "execute_result"
    }
   ],
   "source": [
    "faostat_countries - euroind_countries"
   ]
  },
  {
   "cell_type": "markdown",
   "metadata": {},
   "source": [
    "Оскільки мене найбільше цікавить порівняння різних показників із багатством країни, немає змісту займатися країнами, яких немає у даних euroind."
   ]
  },
  {
   "cell_type": "code",
   "execution_count": 15,
   "metadata": {
    "collapsed": true
   },
   "outputs": [],
   "source": [
    "matching_countries = faostat_countries.intersection(euroind_countries).intersection(who_countries)"
   ]
  },
  {
   "cell_type": "markdown",
   "metadata": {},
   "source": [
    "Bahrain - absent from FAOSTAT\n",
    "\n",
    "Hon Kong - absent from WHO\n",
    "\n",
    "Qatar - absent from FAOSTAT\n",
    "\n",
    "Singapore - absent from FAOSTAT\n",
    "\n",
    "Taiwan - absent from WHO"
   ]
  },
  {
   "cell_type": "code",
   "execution_count": 16,
   "metadata": {
    "collapsed": true
   },
   "outputs": [],
   "source": [
    "countries_map = {\n",
    "    'Bolivia (Plurinational State of)': 'Bolivia',\n",
    "    'Bosnia-Herzegovina': 'Bosnia and Herzegovina',\n",
    "    'Czechia': 'Czech Republic',\n",
    "    'China, Hong Kong SAR': 'Hong Kong, China',\n",
    "    'Iran (Islamic Republic of)': 'Iran',\n",
    "    'The former Yugoslav Republic of Macedonia': 'Macedonia',\n",
    "    'Russian Federation': 'Russia',\n",
    "    'Republic of Korea': 'South Korea',\n",
    "    'China, Taiwan Province of': 'Taiwan',\n",
    "    'United Kingdom of Great Britain and Northern Ireland': 'United Kingdom',\n",
    "    'United States of America': 'United States',\n",
    "    'USA': 'United States',\n",
    "    'Venezuela (Bolivarian Republic of)': 'Venezuela',\n",
    "    'Veitnam': 'Viet Nam',\n",
    "}"
   ]
  },
  {
   "cell_type": "code",
   "execution_count": 17,
   "metadata": {
    "collapsed": true
   },
   "outputs": [],
   "source": [
    "who_data.index = who_data.index.to_series().replace(countries_map).values"
   ]
  },
  {
   "cell_type": "code",
   "execution_count": 18,
   "metadata": {
    "collapsed": true
   },
   "outputs": [],
   "source": [
    "ers_official.index = ers_official.index.to_series().replace(countries_map).values"
   ]
  },
  {
   "cell_type": "code",
   "execution_count": 19,
   "metadata": {
    "collapsed": true
   },
   "outputs": [],
   "source": [
    "euroind_data.country.replace(countries_map, inplace=True)"
   ]
  },
  {
   "cell_type": "code",
   "execution_count": 20,
   "metadata": {
    "collapsed": true
   },
   "outputs": [],
   "source": [
    "faostat_data.Country.replace(countries_map, inplace=True)"
   ]
  },
  {
   "cell_type": "markdown",
   "metadata": {},
   "source": [
    "## Залежність між загальними витратами і витратами на їжу"
   ]
  },
  {
   "cell_type": "markdown",
   "metadata": {},
   "source": [
    "Вибираємо 2013 рік, оскільки це найпізніший рік, для якого дані наявні у всіх трьох джерелах."
   ]
  },
  {
   "cell_type": "code",
   "execution_count": 21,
   "metadata": {
    "collapsed": true
   },
   "outputs": [],
   "source": [
    "# source\n",
    "# https://knoema.com/ESFUSDA2010/expenditures-spent-on-food-by-selected-countries-2009-2015?action=download\n",
    "# https://www.ers.usda.gov/data-products/food-expenditures.aspx - other source of the data, but it's a bit different there\n",
    "# maybe it would make sense to redo with 'official' data\n",
    "euroind_2013 = euroind_data[\n",
    "    (euroind_data.Date == 2013) &\n",
    "    ((euroind_data.indicator == 'Expenditure per capita on food') |\n",
    "     (euroind_data.indicator == 'Total household final consumption expenditures'))\n",
    "]"
   ]
  },
  {
   "cell_type": "code",
   "execution_count": 22,
   "metadata": {},
   "outputs": [
    {
     "data": {
      "text/html": [
       "<div>\n",
       "<style>\n",
       "    .dataframe thead tr:only-child th {\n",
       "        text-align: right;\n",
       "    }\n",
       "\n",
       "    .dataframe thead th {\n",
       "        text-align: left;\n",
       "    }\n",
       "\n",
       "    .dataframe tbody tr th {\n",
       "        vertical-align: top;\n",
       "    }\n",
       "</style>\n",
       "<table border=\"1\" class=\"dataframe\">\n",
       "  <thead>\n",
       "    <tr style=\"text-align: right;\">\n",
       "      <th></th>\n",
       "      <th>country</th>\n",
       "      <th>indicator</th>\n",
       "      <th>Unit</th>\n",
       "      <th>Date</th>\n",
       "      <th>Value</th>\n",
       "    </tr>\n",
       "  </thead>\n",
       "  <tbody>\n",
       "    <tr>\n",
       "      <th>18</th>\n",
       "      <td>Ukraine</td>\n",
       "      <td>Total household final consumption expenditures</td>\n",
       "      <td>U.S. dollars per person</td>\n",
       "      <td>2013</td>\n",
       "      <td>2893.7</td>\n",
       "    </tr>\n",
       "    <tr>\n",
       "      <th>25</th>\n",
       "      <td>Ukraine</td>\n",
       "      <td>Expenditure per capita on food</td>\n",
       "      <td>U.S. dollars per person</td>\n",
       "      <td>2013</td>\n",
       "      <td>1090.1</td>\n",
       "    </tr>\n",
       "    <tr>\n",
       "      <th>46</th>\n",
       "      <td>Germany</td>\n",
       "      <td>Total household final consumption expenditures</td>\n",
       "      <td>U.S. dollars per person</td>\n",
       "      <td>2013</td>\n",
       "      <td>24504.4</td>\n",
       "    </tr>\n",
       "    <tr>\n",
       "      <th>53</th>\n",
       "      <td>Germany</td>\n",
       "      <td>Expenditure per capita on food</td>\n",
       "      <td>U.S. dollars per person</td>\n",
       "      <td>2013</td>\n",
       "      <td>2550.8</td>\n",
       "    </tr>\n",
       "    <tr>\n",
       "      <th>74</th>\n",
       "      <td>Algeria</td>\n",
       "      <td>Total household final consumption expenditures</td>\n",
       "      <td>U.S. dollars per person</td>\n",
       "      <td>2013</td>\n",
       "      <td>1919.1</td>\n",
       "    </tr>\n",
       "  </tbody>\n",
       "</table>\n",
       "</div>"
      ],
      "text/plain": [
       "    country                                       indicator  \\\n",
       "18  Ukraine  Total household final consumption expenditures   \n",
       "25  Ukraine                  Expenditure per capita on food   \n",
       "46  Germany  Total household final consumption expenditures   \n",
       "53  Germany                  Expenditure per capita on food   \n",
       "74  Algeria  Total household final consumption expenditures   \n",
       "\n",
       "                       Unit  Date    Value  \n",
       "18  U.S. dollars per person  2013   2893.7  \n",
       "25  U.S. dollars per person  2013   1090.1  \n",
       "46  U.S. dollars per person  2013  24504.4  \n",
       "53  U.S. dollars per person  2013   2550.8  \n",
       "74  U.S. dollars per person  2013   1919.1  "
      ]
     },
     "execution_count": 22,
     "metadata": {},
     "output_type": "execute_result"
    }
   ],
   "source": [
    "euroind_2013.head()"
   ]
  },
  {
   "cell_type": "code",
   "execution_count": 23,
   "metadata": {
    "collapsed": true
   },
   "outputs": [],
   "source": [
    "euroind_2013 = (euroind_2013.drop(['Unit', 'Date'], axis=1)  # don't need these cols, they are the same everywhere\n",
    " .pivot(index='country', columns='indicator', values='Value')\n",
    " .rename(columns={\n",
    "     'Expenditure per capita on food': 'FoodExp', \n",
    "     'Total household final consumption expenditures': 'TotalExp'})\n",
    " .sort_values('TotalExp'))\n",
    "\n",
    "euroind_2013 = euroind_2013.assign(ExpRating=range(len(euroind_2013)))  # add a rating of a country by total expenditure"
   ]
  },
  {
   "cell_type": "code",
   "execution_count": 24,
   "metadata": {
    "collapsed": true
   },
   "outputs": [],
   "source": [
    "ers_official = ers_official.sort_values('TotalExp').assign(ExpRating=lambda x: range(len(x)))"
   ]
  },
  {
   "cell_type": "code",
   "execution_count": 25,
   "metadata": {},
   "outputs": [
    {
     "data": {
      "text/html": [
       "<div>\n",
       "<style>\n",
       "    .dataframe thead tr:only-child th {\n",
       "        text-align: right;\n",
       "    }\n",
       "\n",
       "    .dataframe thead th {\n",
       "        text-align: left;\n",
       "    }\n",
       "\n",
       "    .dataframe tbody tr th {\n",
       "        vertical-align: top;\n",
       "    }\n",
       "</style>\n",
       "<table border=\"1\" class=\"dataframe\">\n",
       "  <thead>\n",
       "    <tr style=\"text-align: right;\">\n",
       "      <th>indicator</th>\n",
       "      <th>FoodExp</th>\n",
       "      <th>TotalExp</th>\n",
       "      <th>ExpRating</th>\n",
       "    </tr>\n",
       "    <tr>\n",
       "      <th>country</th>\n",
       "      <th></th>\n",
       "      <th></th>\n",
       "      <th></th>\n",
       "    </tr>\n",
       "  </thead>\n",
       "  <tbody>\n",
       "    <tr>\n",
       "      <th>Kenya</th>\n",
       "      <td>371.3</td>\n",
       "      <td>791.5</td>\n",
       "      <td>0</td>\n",
       "    </tr>\n",
       "    <tr>\n",
       "      <th>Pakistan</th>\n",
       "      <td>361.0</td>\n",
       "      <td>846.1</td>\n",
       "      <td>1</td>\n",
       "    </tr>\n",
       "    <tr>\n",
       "      <th>India</th>\n",
       "      <td>266.1</td>\n",
       "      <td>899.9</td>\n",
       "      <td>2</td>\n",
       "    </tr>\n",
       "    <tr>\n",
       "      <th>Uzbekistan</th>\n",
       "      <td>329.3</td>\n",
       "      <td>1068.4</td>\n",
       "      <td>3</td>\n",
       "    </tr>\n",
       "    <tr>\n",
       "      <th>Cameroon</th>\n",
       "      <td>490.8</td>\n",
       "      <td>1072.6</td>\n",
       "      <td>4</td>\n",
       "    </tr>\n",
       "    <tr>\n",
       "      <th>Vietnam</th>\n",
       "      <td>421.2</td>\n",
       "      <td>1184.8</td>\n",
       "      <td>5</td>\n",
       "    </tr>\n",
       "    <tr>\n",
       "      <th>Bolivia</th>\n",
       "      <td>506.3</td>\n",
       "      <td>1766.5</td>\n",
       "      <td>6</td>\n",
       "    </tr>\n",
       "    <tr>\n",
       "      <th>Algeria</th>\n",
       "      <td>817.7</td>\n",
       "      <td>1919.1</td>\n",
       "      <td>7</td>\n",
       "    </tr>\n",
       "    <tr>\n",
       "      <th>Philippines</th>\n",
       "      <td>870.9</td>\n",
       "      <td>2051.8</td>\n",
       "      <td>8</td>\n",
       "    </tr>\n",
       "    <tr>\n",
       "      <th>Indonesia</th>\n",
       "      <td>702.5</td>\n",
       "      <td>2116.1</td>\n",
       "      <td>9</td>\n",
       "    </tr>\n",
       "    <tr>\n",
       "      <th>Morocco</th>\n",
       "      <td>763.3</td>\n",
       "      <td>2130.1</td>\n",
       "      <td>10</td>\n",
       "    </tr>\n",
       "    <tr>\n",
       "      <th>Nigeria</th>\n",
       "      <td>1209.1</td>\n",
       "      <td>2131.7</td>\n",
       "      <td>11</td>\n",
       "    </tr>\n",
       "    <tr>\n",
       "      <th>China</th>\n",
       "      <td>653.7</td>\n",
       "      <td>2506.1</td>\n",
       "      <td>12</td>\n",
       "    </tr>\n",
       "    <tr>\n",
       "      <th>Iran</th>\n",
       "      <td>661.1</td>\n",
       "      <td>2639.6</td>\n",
       "      <td>13</td>\n",
       "    </tr>\n",
       "    <tr>\n",
       "      <th>Georgia</th>\n",
       "      <td>894.3</td>\n",
       "      <td>2691.8</td>\n",
       "      <td>14</td>\n",
       "    </tr>\n",
       "    <tr>\n",
       "      <th>Egypt</th>\n",
       "      <td>1051.5</td>\n",
       "      <td>2809.8</td>\n",
       "      <td>15</td>\n",
       "    </tr>\n",
       "    <tr>\n",
       "      <th>Ukraine</th>\n",
       "      <td>1090.1</td>\n",
       "      <td>2893.7</td>\n",
       "      <td>16</td>\n",
       "    </tr>\n",
       "    <tr>\n",
       "      <th>Tunisia</th>\n",
       "      <td>681.5</td>\n",
       "      <td>3006.9</td>\n",
       "      <td>17</td>\n",
       "    </tr>\n",
       "    <tr>\n",
       "      <th>Guatemala</th>\n",
       "      <td>1220.5</td>\n",
       "      <td>3045.5</td>\n",
       "      <td>18</td>\n",
       "    </tr>\n",
       "    <tr>\n",
       "      <th>Turkmenistan</th>\n",
       "      <td>1233.7</td>\n",
       "      <td>3182.3</td>\n",
       "      <td>19</td>\n",
       "    </tr>\n",
       "  </tbody>\n",
       "</table>\n",
       "</div>"
      ],
      "text/plain": [
       "indicator     FoodExp  TotalExp  ExpRating\n",
       "country                                   \n",
       "Kenya           371.3     791.5          0\n",
       "Pakistan        361.0     846.1          1\n",
       "India           266.1     899.9          2\n",
       "Uzbekistan      329.3    1068.4          3\n",
       "Cameroon        490.8    1072.6          4\n",
       "Vietnam         421.2    1184.8          5\n",
       "Bolivia         506.3    1766.5          6\n",
       "Algeria         817.7    1919.1          7\n",
       "Philippines     870.9    2051.8          8\n",
       "Indonesia       702.5    2116.1          9\n",
       "Morocco         763.3    2130.1         10\n",
       "Nigeria        1209.1    2131.7         11\n",
       "China           653.7    2506.1         12\n",
       "Iran            661.1    2639.6         13\n",
       "Georgia         894.3    2691.8         14\n",
       "Egypt          1051.5    2809.8         15\n",
       "Ukraine        1090.1    2893.7         16\n",
       "Tunisia         681.5    3006.9         17\n",
       "Guatemala      1220.5    3045.5         18\n",
       "Turkmenistan   1233.7    3182.3         19"
      ]
     },
     "execution_count": 25,
     "metadata": {},
     "output_type": "execute_result"
    }
   ],
   "source": [
    "euroind_2013.head(20)"
   ]
  },
  {
   "cell_type": "code",
   "execution_count": 26,
   "metadata": {
    "collapsed": true
   },
   "outputs": [],
   "source": [
    "def annotate(country, label, df, x_col, y_col, ax, x_offset=-.6, y_offset=1000):\n",
    "    country_row = df.loc[country]\n",
    "    ax.annotate(label, xy=(\n",
    "        country_row[x_col] + x_offset, country_row[y_col] + y_offset\n",
    "    ))"
   ]
  },
  {
   "cell_type": "code",
   "execution_count": 27,
   "metadata": {
    "collapsed": true
   },
   "outputs": [],
   "source": [
    "annotate_ua = partial(annotate, country='Ukraine', label='Україна')\n",
    "annotate_de = partial(annotate, country='Germany', label='Німеччина')\n",
    "annotate_us = partial(annotate, country='United States', label='США')\n",
    "annotate_ru = partial(annotate, country='Russia', label='Росія')"
   ]
  },
  {
   "cell_type": "code",
   "execution_count": 28,
   "metadata": {
    "collapsed": true
   },
   "outputs": [],
   "source": [
    "colors = {\n",
    "    'red': '#FF2445',\n",
    "    'yellow': '#FFB100',\n",
    "    'green': '#56BA00',\n",
    "    'blue': '#0064A4',\n",
    "    'purple': '#7500B4',\n",
    "}"
   ]
  },
  {
   "cell_type": "code",
   "execution_count": 29,
   "metadata": {
    "collapsed": true
   },
   "outputs": [],
   "source": [
    "def plot_total_vs_food_exp(df, save_path=None):\n",
    "    # colors\n",
    "    color_total = colors['blue']\n",
    "    color_food = colors['red']\n",
    "\n",
    "    # area plot\n",
    "    ax = (df\n",
    "          [['FoodExp', 'TotalExp']]\n",
    "          .assign(TotalExp = (df['TotalExp'] - df['FoodExp']))\n",
    "          .plot.area(alpha=.2, linewidth=0, color=[color_food, color_total],))\n",
    "\n",
    "    # lines\n",
    "    df.plot(x='ExpRating', y='TotalExp', ax=ax, color=color_total, linewidth=3)\n",
    "    df.plot(x='ExpRating', y='FoodExp', ax=ax, color=color_food, linewidth=3)\n",
    "\n",
    "    # dots and labels for selected countries\n",
    "    countries_to_plot = ['Ukraine', 'Germany', 'United States']\n",
    "    selected_df = df.loc[countries_to_plot]\n",
    "\n",
    "    ax.scatter(x=selected_df.ExpRating, y=selected_df['TotalExp'], s=50, c=color_total)\n",
    "    ax.scatter(x=selected_df.ExpRating, y=selected_df['FoodExp'], s=50, c=color_food)\n",
    "    for func in [annotate_ua, annotate_de, annotate_us]:\n",
    "        func(df=df, ax=ax, x_col='ExpRating', y_col='TotalExp')\n",
    "\n",
    "    # LABELS AND STYLES\n",
    "    ax.set_title('Зі збільшенням загальних витрат все менша частка їх припадає на їжу', loc='left')\n",
    "\n",
    "    # TODO - align to the left\n",
    "    ax.set_ylabel('Доларів США на людину на рік (2013)', labelpad=20)\n",
    "\n",
    "    ax.set_xlabel('Місце країни в рейтингу — від найбідніших до найбагатших', \n",
    "                  labelpad=20,\n",
    "                  horizontalalignment='left')\n",
    "\n",
    "    ax.get_xaxis().set_ticks([])\n",
    "\n",
    "    # legend\n",
    "    handles, labels = ax.get_legend_handles_labels()\n",
    "    ax.legend(\n",
    "        handles[:2], ('Загальні витрати', 'Витрати на їжу'), loc=(.82, .85), title='',\n",
    "        facecolor='white',  \n",
    "    )\n",
    "\n",
    "    ax.grid(b=False)\n",
    "\n",
    "    if save_path:\n",
    "        plt.savefig(save_path)"
   ]
  },
  {
   "cell_type": "code",
   "execution_count": 30,
   "metadata": {},
   "outputs": [
    {
     "data": {
      "image/png": "[encoded data removed]",
      "text/plain": [
       "<matplotlib.figure.Figure at 0x7f6a85ca2fd0>"
      ]
     },
     "metadata": {},
     "output_type": "display_data"
    }
   ],
   "source": [
    "plot_total_vs_food_exp(euroind_2013)"
   ]
  },
  {
   "cell_type": "code",
   "execution_count": 31,
   "metadata": {},
   "outputs": [
    {
     "data": {
      "image/png": "[encoded data removed]",
      "text/plain": [
       "<matplotlib.figure.Figure at 0x7f6a858d5da0>"
      ]
     },
     "metadata": {},
     "output_type": "display_data"
    }
   ],
   "source": [
    "plot_total_vs_food_exp(ers_official, './imgs/food_vs_total_exp.svg')"
   ]
  },
  {
   "cell_type": "code",
   "execution_count": 33,
   "metadata": {},
   "outputs": [
    {
     "data": {
      "text/html": [
       "<div>\n",
       "<style>\n",
       "    .dataframe thead tr:only-child th {\n",
       "        text-align: right;\n",
       "    }\n",
       "\n",
       "    .dataframe thead th {\n",
       "        text-align: left;\n",
       "    }\n",
       "\n",
       "    .dataframe tbody tr th {\n",
       "        vertical-align: top;\n",
       "    }\n",
       "</style>\n",
       "<table border=\"1\" class=\"dataframe\">\n",
       "  <thead>\n",
       "    <tr style=\"text-align: right;\">\n",
       "      <th></th>\n",
       "      <th>FoodExp</th>\n",
       "      <th>TotalExp</th>\n",
       "      <th>ExpRating</th>\n",
       "    </tr>\n",
       "  </thead>\n",
       "  <tbody>\n",
       "    <tr>\n",
       "      <th>Ukraine</th>\n",
       "      <td>1090.1</td>\n",
       "      <td>2893.7</td>\n",
       "      <td>15</td>\n",
       "    </tr>\n",
       "    <tr>\n",
       "      <th>Germany</th>\n",
       "      <td>2477.2</td>\n",
       "      <td>24329.3</td>\n",
       "      <td>74</td>\n",
       "    </tr>\n",
       "    <tr>\n",
       "      <th>United States</th>\n",
       "      <td>2347.2</td>\n",
       "      <td>35160.6</td>\n",
       "      <td>82</td>\n",
       "    </tr>\n",
       "  </tbody>\n",
       "</table>\n",
       "</div>"
      ],
      "text/plain": [
       "               FoodExp  TotalExp  ExpRating\n",
       "Ukraine         1090.1    2893.7         15\n",
       "Germany         2477.2   24329.3         74\n",
       "United States   2347.2   35160.6         82"
      ]
     },
     "execution_count": 33,
     "metadata": {},
     "output_type": "execute_result"
    }
   ],
   "source": [
    "ers_official.loc[['Ukraine', 'Germany', 'United States',], ['FoodExp', 'TotalExp', 'ExpRating']]"
   ]
  },
  {
   "cell_type": "code",
   "execution_count": 34,
   "metadata": {},
   "outputs": [
    {
     "data": {
      "text/plain": [
       "22"
      ]
     },
     "execution_count": 34,
     "metadata": {},
     "output_type": "execute_result"
    }
   ],
   "source": [
    "# Місце України в рейтенгу по витратах їжі (від найбідніших до найбагатших)\n",
    "list(euroind_2013.sort_values('FoodExp').index).index('Ukraine')"
   ]
  },
  {
   "cell_type": "markdown",
   "metadata": {},
   "source": [
    "Основні цікавинки наразі\n",
    "* Чим багатші люди, тим менша частка грошей витрачається на їжу\n",
    "* Багатші люди їдять:\n",
    "    - Майже стільки ж вуглеводів, але трохи більше білків і сильно більше жирів, тому більше загалом\n",
    "    - Більше їжі тваринного походження\n",
    "    - Деякі країни сильно виділяються (наприклад, Японія)\n",
    "* Україна тут «не дотягує» до Німеччини і США, але ближча до них, ніж до країн, які витрачають стільки ж грошей, як українці. Знайти країни, у яких таке ж співвідношення між білками/жирами/вуглеводами\n",
    "* У багатших країнах люди загалом товстіші, але жінки худіші за чоловіків. Знайти найближчі країни за BMI."
   ]
  },
  {
   "cell_type": "markdown",
   "metadata": {
    "collapsed": true
   },
   "source": [
    "## Забезпечення калоріями"
   ]
  },
  {
   "cell_type": "code",
   "execution_count": 35,
   "metadata": {
    "collapsed": true
   },
   "outputs": [],
   "source": [
    "def select_faostat_value(faostat_data, selection_arr, col_name):\n",
    "    return (faostat_data[selection_arr]\n",
    "            [['Country', 'Value']]\n",
    "            .rename(columns={'Value': col_name})\n",
    "            .set_index('Country'))"
   ]
  },
  {
   "cell_type": "code",
   "execution_count": 36,
   "metadata": {
    "collapsed": true
   },
   "outputs": [],
   "source": [
    "def select_faostat_element_total(faostat_data, element_name, element_col_name):\n",
    "    selected = ((faostat_data.Element == element_name) & (faostat_data.Item == 'Grand Total'))\n",
    "    return select_faostat_value(faostat_data, selected, element_col_name)"
   ]
  },
  {
   "cell_type": "code",
   "execution_count": 37,
   "metadata": {
    "collapsed": true
   },
   "outputs": [],
   "source": [
    "def select_faostat_item_total(faostat_data, item_name, item_col_name):\n",
    "    selected = ((faostat_data.Item == item_name) & (faostat_data.Element == 'Food supply (kcal/capita/day)'))\n",
    "    return select_faostat_value(faostat_data, selected, item_col_name)"
   ]
  },
  {
   "cell_type": "code",
   "execution_count": 38,
   "metadata": {
    "collapsed": true
   },
   "outputs": [],
   "source": [
    "def faostat_element_vs_expend_rating(faostat_data, expend_data, faostat_element, element_col_name):\n",
    "    # select and merge data\n",
    "    element_data = select_faostat_element_total(faostat_data, faostat_element, element_col_name)\n",
    "    return pd.merge(\n",
    "        element_data, expend_data, left_index=True, right_index=True\n",
    "    )"
   ]
  },
  {
   "cell_type": "code",
   "execution_count": 39,
   "metadata": {
    "collapsed": true
   },
   "outputs": [],
   "source": [
    "TOTAL_KCAL_NAME = 'Food supply (kcal/capita/day)'\n",
    "PROTEIN_ELEMENT_NAME = 'Protein supply quantity (g/capita/day)'\n",
    "FAT_ELEMENT_NAME = 'Fat supply quantity (g/capita/day)'\n",
    "\n",
    "# https://en.wikipedia.org/wiki/Food_energy\n",
    "FAT_ENERGY = 8.8  # kcal/g\n",
    "PROTEIN_ENERGY = 4   # kcal/g"
   ]
  },
  {
   "cell_type": "code",
   "execution_count": 40,
   "metadata": {
    "collapsed": true
   },
   "outputs": [],
   "source": [
    "total_kcal_data = select_faostat_element_total(faostat_data, TOTAL_KCAL_NAME, 'FoodTotal')\n",
    "protein_data = select_faostat_element_total(faostat_data, PROTEIN_ELEMENT_NAME, 'Protein')\n",
    "fat_data = select_faostat_element_total(faostat_data, FAT_ELEMENT_NAME, 'Fat')\n",
    "# faostat_element_vs_expend_rating(faostat_data, euroind_2013, PROTEIN_ELEMENT_NAME, 'Protein')"
   ]
  },
  {
   "cell_type": "code",
   "execution_count": 41,
   "metadata": {},
   "outputs": [
    {
     "data": {
      "text/plain": [
       "37"
      ]
     },
     "execution_count": 41,
     "metadata": {},
     "output_type": "execute_result"
    }
   ],
   "source": [
    "energy_dist_data = pd.DataFrame({\n",
    "    'FoodTotal': total_kcal_data.FoodTotal,\n",
    "    'Protein': protein_data.Protein * PROTEIN_ENERGY,\n",
    "    'Fat': fat_data.Fat * FAT_ENERGY,\n",
    "    'ExpRank': ers_official.ExpRating,\n",
    "    'FoodExp': ers_official.FoodExp,\n",
    "    'TotalExp': ers_official.TotalExp,\n",
    "}).dropna()\n",
    "\n",
    "# місце України в рейтингу за загальним споживанням калорій\n",
    "list(energy_dist_data.sort_values('FoodTotal').index).index('Ukraine')"
   ]
  },
  {
   "cell_type": "code",
   "execution_count": 42,
   "metadata": {},
   "outputs": [
    {
     "data": {
      "text/html": [
       "<div>\n",
       "<style>\n",
       "    .dataframe thead tr:only-child th {\n",
       "        text-align: right;\n",
       "    }\n",
       "\n",
       "    .dataframe thead th {\n",
       "        text-align: left;\n",
       "    }\n",
       "\n",
       "    .dataframe tbody tr th {\n",
       "        vertical-align: top;\n",
       "    }\n",
       "</style>\n",
       "<table border=\"1\" class=\"dataframe\">\n",
       "  <thead>\n",
       "    <tr style=\"text-align: right;\">\n",
       "      <th></th>\n",
       "      <th>ExpRank</th>\n",
       "      <th>Fat</th>\n",
       "      <th>FoodExp</th>\n",
       "      <th>FoodTotal</th>\n",
       "      <th>Protein</th>\n",
       "      <th>TotalExp</th>\n",
       "    </tr>\n",
       "  </thead>\n",
       "  <tbody>\n",
       "    <tr>\n",
       "      <th>Ukraine</th>\n",
       "      <td>15.0</td>\n",
       "      <td>814.968</td>\n",
       "      <td>1090.1</td>\n",
       "      <td>3138.0</td>\n",
       "      <td>354.48</td>\n",
       "      <td>2893.7</td>\n",
       "    </tr>\n",
       "    <tr>\n",
       "      <th>Germany</th>\n",
       "      <td>74.0</td>\n",
       "      <td>1248.456</td>\n",
       "      <td>2477.2</td>\n",
       "      <td>3499.0</td>\n",
       "      <td>406.36</td>\n",
       "      <td>24329.3</td>\n",
       "    </tr>\n",
       "    <tr>\n",
       "      <th>United States</th>\n",
       "      <td>82.0</td>\n",
       "      <td>1421.552</td>\n",
       "      <td>2347.2</td>\n",
       "      <td>3682.0</td>\n",
       "      <td>438.40</td>\n",
       "      <td>35160.6</td>\n",
       "    </tr>\n",
       "  </tbody>\n",
       "</table>\n",
       "</div>"
      ],
      "text/plain": [
       "               ExpRank       Fat  FoodExp  FoodTotal  Protein  TotalExp\n",
       "Ukraine           15.0   814.968   1090.1     3138.0   354.48    2893.7\n",
       "Germany           74.0  1248.456   2477.2     3499.0   406.36   24329.3\n",
       "United States     82.0  1421.552   2347.2     3682.0   438.40   35160.6"
      ]
     },
     "execution_count": 42,
     "metadata": {},
     "output_type": "execute_result"
    }
   ],
   "source": [
    "energy_dist_data.loc[['Ukraine', 'Germany', 'United States']]"
   ]
  },
  {
   "cell_type": "code",
   "execution_count": 43,
   "metadata": {},
   "outputs": [
    {
     "data": {
      "text/html": [
       "<div>\n",
       "<style>\n",
       "    .dataframe thead tr:only-child th {\n",
       "        text-align: right;\n",
       "    }\n",
       "\n",
       "    .dataframe thead th {\n",
       "        text-align: left;\n",
       "    }\n",
       "\n",
       "    .dataframe tbody tr th {\n",
       "        vertical-align: top;\n",
       "    }\n",
       "</style>\n",
       "<table border=\"1\" class=\"dataframe\">\n",
       "  <thead>\n",
       "    <tr style=\"text-align: right;\">\n",
       "      <th></th>\n",
       "      <th>FoodExp</th>\n",
       "      <th>FoodTotal</th>\n",
       "      <th>n</th>\n",
       "    </tr>\n",
       "  </thead>\n",
       "  <tbody>\n",
       "    <tr>\n",
       "      <th>Guatemala</th>\n",
       "      <td>1220.5</td>\n",
       "      <td>2419.0</td>\n",
       "      <td>0</td>\n",
       "    </tr>\n",
       "    <tr>\n",
       "      <th>Dominican Republic</th>\n",
       "      <td>1185.9</td>\n",
       "      <td>2614.0</td>\n",
       "      <td>1</td>\n",
       "    </tr>\n",
       "    <tr>\n",
       "      <th>Venezuela</th>\n",
       "      <td>1554.8</td>\n",
       "      <td>2631.0</td>\n",
       "      <td>2</td>\n",
       "    </tr>\n",
       "    <tr>\n",
       "      <th>Peru</th>\n",
       "      <td>1500.9</td>\n",
       "      <td>2700.0</td>\n",
       "      <td>3</td>\n",
       "    </tr>\n",
       "    <tr>\n",
       "      <th>Nigeria</th>\n",
       "      <td>1208.2</td>\n",
       "      <td>2700.0</td>\n",
       "      <td>4</td>\n",
       "    </tr>\n",
       "    <tr>\n",
       "      <th>Japan</th>\n",
       "      <td>3261.6</td>\n",
       "      <td>2726.0</td>\n",
       "      <td>5</td>\n",
       "    </tr>\n",
       "    <tr>\n",
       "      <th>Serbia</th>\n",
       "      <td>1275.4</td>\n",
       "      <td>2728.0</td>\n",
       "      <td>6</td>\n",
       "    </tr>\n",
       "    <tr>\n",
       "      <th>Turkmenistan</th>\n",
       "      <td>1233.7</td>\n",
       "      <td>2840.0</td>\n",
       "      <td>7</td>\n",
       "    </tr>\n",
       "    <tr>\n",
       "      <th>Costa Rica</th>\n",
       "      <td>1468.9</td>\n",
       "      <td>2848.0</td>\n",
       "      <td>8</td>\n",
       "    </tr>\n",
       "    <tr>\n",
       "      <th>Malaysia</th>\n",
       "      <td>1200.8</td>\n",
       "      <td>2916.0</td>\n",
       "      <td>9</td>\n",
       "    </tr>\n",
       "    <tr>\n",
       "      <th>Slovakia</th>\n",
       "      <td>1763.0</td>\n",
       "      <td>2944.0</td>\n",
       "      <td>10</td>\n",
       "    </tr>\n",
       "    <tr>\n",
       "      <th>Macedonia</th>\n",
       "      <td>1250.8</td>\n",
       "      <td>2949.0</td>\n",
       "      <td>11</td>\n",
       "    </tr>\n",
       "    <tr>\n",
       "      <th>Chile</th>\n",
       "      <td>1545.2</td>\n",
       "      <td>2979.0</td>\n",
       "      <td>12</td>\n",
       "    </tr>\n",
       "    <tr>\n",
       "      <th>Taiwan</th>\n",
       "      <td>1616.5</td>\n",
       "      <td>2997.0</td>\n",
       "      <td>13</td>\n",
       "    </tr>\n",
       "    <tr>\n",
       "      <th>Hungary</th>\n",
       "      <td>1286.1</td>\n",
       "      <td>3037.0</td>\n",
       "      <td>14</td>\n",
       "    </tr>\n",
       "    <tr>\n",
       "      <th>Uruguay</th>\n",
       "      <td>2166.7</td>\n",
       "      <td>3050.0</td>\n",
       "      <td>15</td>\n",
       "    </tr>\n",
       "    <tr>\n",
       "      <th>Croatia</th>\n",
       "      <td>2983.9</td>\n",
       "      <td>3059.0</td>\n",
       "      <td>16</td>\n",
       "    </tr>\n",
       "    <tr>\n",
       "      <th>Mexico</th>\n",
       "      <td>1610.1</td>\n",
       "      <td>3072.0</td>\n",
       "      <td>17</td>\n",
       "    </tr>\n",
       "    <tr>\n",
       "      <th>Jordan</th>\n",
       "      <td>1756.2</td>\n",
       "      <td>3100.0</td>\n",
       "      <td>18</td>\n",
       "    </tr>\n",
       "    <tr>\n",
       "      <th>Azerbaijan</th>\n",
       "      <td>1345.4</td>\n",
       "      <td>3118.0</td>\n",
       "      <td>19</td>\n",
       "    </tr>\n",
       "    <tr>\n",
       "      <th>New Zealand</th>\n",
       "      <td>3654.5</td>\n",
       "      <td>3137.0</td>\n",
       "      <td>20</td>\n",
       "    </tr>\n",
       "    <tr>\n",
       "      <th>Ukraine</th>\n",
       "      <td>1090.1</td>\n",
       "      <td>3138.0</td>\n",
       "      <td>21</td>\n",
       "    </tr>\n",
       "  </tbody>\n",
       "</table>\n",
       "</div>"
      ],
      "text/plain": [
       "                    FoodExp  FoodTotal   n\n",
       "Guatemala            1220.5     2419.0   0\n",
       "Dominican Republic   1185.9     2614.0   1\n",
       "Venezuela            1554.8     2631.0   2\n",
       "Peru                 1500.9     2700.0   3\n",
       "Nigeria              1208.2     2700.0   4\n",
       "Japan                3261.6     2726.0   5\n",
       "Serbia               1275.4     2728.0   6\n",
       "Turkmenistan         1233.7     2840.0   7\n",
       "Costa Rica           1468.9     2848.0   8\n",
       "Malaysia             1200.8     2916.0   9\n",
       "Slovakia             1763.0     2944.0  10\n",
       "Macedonia            1250.8     2949.0  11\n",
       "Chile                1545.2     2979.0  12\n",
       "Taiwan               1616.5     2997.0  13\n",
       "Hungary              1286.1     3037.0  14\n",
       "Uruguay              2166.7     3050.0  15\n",
       "Croatia              2983.9     3059.0  16\n",
       "Mexico               1610.1     3072.0  17\n",
       "Jordan               1756.2     3100.0  18\n",
       "Azerbaijan           1345.4     3118.0  19\n",
       "New Zealand          3654.5     3137.0  20\n",
       "Ukraine              1090.1     3138.0  21"
      ]
     },
     "execution_count": 43,
     "metadata": {},
     "output_type": "execute_result"
    }
   ],
   "source": [
    "energy_dist_data[\n",
    "    (energy_dist_data.FoodExp >= energy_dist_data.loc['Ukraine', 'FoodExp']) &\n",
    "    (energy_dist_data.FoodTotal <= energy_dist_data.loc['Ukraine', 'FoodTotal'])\n",
    "][['FoodExp', 'FoodTotal']].sort_values('FoodTotal').assign(n=lambda x: range(len(x)))"
   ]
  },
  {
   "cell_type": "code",
   "execution_count": 44,
   "metadata": {},
   "outputs": [
    {
     "data": {
      "image/png": "[encoded data removed]",
      "text/plain": [
       "<matplotlib.figure.Figure at 0x7f6a85792320>"
      ]
     },
     "metadata": {},
     "output_type": "display_data"
    }
   ],
   "source": [
    "ax = energy_dist_data.plot.scatter('ExpRank', 'FoodTotal', figsize=(10, 10))\n",
    "\n",
    "for func in [annotate_ua, annotate_de, annotate_us]:\n",
    "    func(df=energy_dist_data, ax=ax, x_col='ExpRank', y_col='FoodTotal', x_offset=0, y_offset=0)"
   ]
  },
  {
   "cell_type": "code",
   "execution_count": 45,
   "metadata": {
    "collapsed": true
   },
   "outputs": [],
   "source": [
    "ALCOHOL_ITEM_NAME = 'Alcoholic Beverages'\n",
    "alcohol_data = select_faostat_item_total(faostat_data, ALCOHOL_ITEM_NAME, 'Alcohol')"
   ]
  },
  {
   "cell_type": "code",
   "execution_count": 46,
   "metadata": {},
   "outputs": [
    {
     "data": {
      "text/html": [
       "<div>\n",
       "<style>\n",
       "    .dataframe thead tr:only-child th {\n",
       "        text-align: right;\n",
       "    }\n",
       "\n",
       "    .dataframe thead th {\n",
       "        text-align: left;\n",
       "    }\n",
       "\n",
       "    .dataframe tbody tr th {\n",
       "        vertical-align: top;\n",
       "    }\n",
       "</style>\n",
       "<table border=\"1\" class=\"dataframe\">\n",
       "  <thead>\n",
       "    <tr style=\"text-align: right;\">\n",
       "      <th></th>\n",
       "      <th>ExpRank</th>\n",
       "      <th>Fat</th>\n",
       "      <th>FoodExp</th>\n",
       "      <th>FoodTotal</th>\n",
       "      <th>Protein</th>\n",
       "      <th>TotalExp</th>\n",
       "      <th>Carbs</th>\n",
       "    </tr>\n",
       "  </thead>\n",
       "  <tbody>\n",
       "    <tr>\n",
       "      <th>Algeria</th>\n",
       "      <td>7.0</td>\n",
       "      <td>673.640</td>\n",
       "      <td>792.0</td>\n",
       "      <td>3296.0</td>\n",
       "      <td>367.84</td>\n",
       "      <td>1858.7</td>\n",
       "      <td>2247.520</td>\n",
       "    </tr>\n",
       "    <tr>\n",
       "      <th>Argentina</th>\n",
       "      <td>49.0</td>\n",
       "      <td>1024.848</td>\n",
       "      <td>1991.5</td>\n",
       "      <td>3229.0</td>\n",
       "      <td>410.56</td>\n",
       "      <td>9630.7</td>\n",
       "      <td>1688.592</td>\n",
       "    </tr>\n",
       "    <tr>\n",
       "      <th>Australia</th>\n",
       "      <td>83.0</td>\n",
       "      <td>1327.480</td>\n",
       "      <td>3582.6</td>\n",
       "      <td>3276.0</td>\n",
       "      <td>425.12</td>\n",
       "      <td>36004.2</td>\n",
       "      <td>1387.400</td>\n",
       "    </tr>\n",
       "    <tr>\n",
       "      <th>Austria</th>\n",
       "      <td>79.0</td>\n",
       "      <td>1499.872</td>\n",
       "      <td>2730.3</td>\n",
       "      <td>3768.0</td>\n",
       "      <td>424.84</td>\n",
       "      <td>27383.9</td>\n",
       "      <td>1600.288</td>\n",
       "    </tr>\n",
       "    <tr>\n",
       "      <th>Azerbaijan</th>\n",
       "      <td>20.0</td>\n",
       "      <td>521.576</td>\n",
       "      <td>1345.4</td>\n",
       "      <td>3118.0</td>\n",
       "      <td>372.60</td>\n",
       "      <td>3244.7</td>\n",
       "      <td>2069.824</td>\n",
       "    </tr>\n",
       "  </tbody>\n",
       "</table>\n",
       "</div>"
      ],
      "text/plain": [
       "            ExpRank       Fat  FoodExp  FoodTotal  Protein  TotalExp     Carbs\n",
       "Algeria         7.0   673.640    792.0     3296.0   367.84    1858.7  2247.520\n",
       "Argentina      49.0  1024.848   1991.5     3229.0   410.56    9630.7  1688.592\n",
       "Australia      83.0  1327.480   3582.6     3276.0   425.12   36004.2  1387.400\n",
       "Austria        79.0  1499.872   2730.3     3768.0   424.84   27383.9  1600.288\n",
       "Azerbaijan     20.0   521.576   1345.4     3118.0   372.60    3244.7  2069.824"
      ]
     },
     "execution_count": 46,
     "metadata": {},
     "output_type": "execute_result"
    }
   ],
   "source": [
    "# calories that don't come from fats, protein or alcohol must come from carbs\n",
    "energy_dist_data = energy_dist_data.assign(\n",
    "    Carbs=lambda df: df['FoodTotal'] - df[['Protein', 'Fat']].sum(axis=1) - alcohol_data.loc[df.index].Alcohol\n",
    ")\n",
    "energy_dist_data.head()"
   ]
  },
  {
   "cell_type": "code",
   "execution_count": 47,
   "metadata": {
    "collapsed": true
   },
   "outputs": [],
   "source": [
    "# add avg \"healthy\" amount\n",
    "# healthy proportions from https://www.nap.edu/read/10490/chapter/32#1325\n",
    "# recommended energy intake https://en.wikipedia.org/wiki/Food_energy#Recommended_daily_intake\n",
    "female_kcal = 2000\n",
    "male_kcal = 2600\n",
    "avg_kcal = (female_kcal + male_kcal) / 2\n",
    "\n",
    "carb_range = (avg_kcal * 0.45, avg_kcal * 0.65)\n",
    "fat_range = (avg_kcal * 0.20, avg_kcal * 0.35)\n",
    "prot_range = (avg_kcal * 0.10, avg_kcal * 0.35)"
   ]
  },
  {
   "cell_type": "code",
   "execution_count": 48,
   "metadata": {
    "collapsed": true
   },
   "outputs": [],
   "source": [
    "def point_size(series, recommended_range):\n",
    "    large = 38\n",
    "    normal = 18\n",
    "    small = 3\n",
    "    return series.apply(\n",
    "        lambda x: normal if recommended_range[0] <= x <= recommended_range[1] else \n",
    "        (small if x < recommended_range[0] else large)\n",
    "    )"
   ]
  },
  {
   "cell_type": "code",
   "execution_count": 49,
   "metadata": {
    "collapsed": true
   },
   "outputs": [],
   "source": [
    "def plot_recommended_intake(x_range, y_range, color, ax):\n",
    "    linewidth = 1.5\n",
    "    ax.fill_between(x_range, [y_range[0]]*2, [y_range[1]]*2, color='white')\n",
    "    # for lim in y_range:\n",
    "    #     ax.plot(x_range, [lim]*2, c=color, linewidth=linewidth)"
   ]
  },
  {
   "cell_type": "code",
   "execution_count": 50,
   "metadata": {
    "collapsed": true
   },
   "outputs": [],
   "source": [
    "def plot_energy_sources(df, x_col='ExpRank', save_path=None):\n",
    "    fig, axs = plt.subplots(1, 3, figsize=(15, 6))\n",
    "\n",
    "    # add avg \"healthy\" amount\n",
    "    # healthy proportions from https://www.nap.edu/read/10490/chapter/32#1325\n",
    "    # recommended energy intake https://en.wikipedia.org/wiki/Food_energy#Recommended_daily_intake\n",
    "    female_kcal = 2000\n",
    "    male_kcal = 2600\n",
    "    avg_kcal = (female_kcal + male_kcal) / 2\n",
    "    \n",
    "    x_min = df[x_col].min()\n",
    "    x_max = df[x_col].max()\n",
    "    x_range = (x_min, x_max + (x_max - x_min) / 40)\n",
    "\n",
    "    carb_color = colors['blue']\n",
    "    fat_color = colors['purple']\n",
    "    prot_color = colors['red']\n",
    "\n",
    "    for (i, (y_col, color, rec_range, label)) in enumerate((\n",
    "        ('Protein', prot_color, prot_range, 'Білки'),\n",
    "        ('Fat', fat_color, fat_range, 'Жири'),\n",
    "        ('Carbs', carb_color, carb_range, 'Вуглеводи'), \n",
    "    )):\n",
    "        plot_recommended_intake(x_range, rec_range, color, axs[i])\n",
    "        size = point_size(df[y_col], rec_range)\n",
    "        axs[i].scatter(\n",
    "            df[x_col], df[y_col], c=color, s=18, label=label\n",
    "        )\n",
    "        axs[i].set_title(label, fontsize=16,)\n",
    "        for func in [annotate_ua, annotate_de, annotate_us]:\n",
    "            func(df=df, ax=axs[i], x_col=x_col, y_col=y_col, x_offset=0, y_offset=0)\n",
    "\n",
    "\n",
    "    axis_label_fontsize = 14\n",
    "    # axs[2].set_xlabel('Місце країни в рейтингу — від найбідніших до найбагатших', \n",
    "    #              labelpad=20, fontsize=axis_label_fontsize)\n",
    "    for ax in axs:\n",
    "        ax.get_xaxis().set_ticks([])\n",
    "        ax.grid(b=False)\n",
    "        ax.set_ylim(200, 2700)\n",
    "\n",
    "    for ax in axs[1:]:\n",
    "        ax.get_yaxis().set_ticks([])\n",
    "\n",
    "    axs[0].set_ylabel(\n",
    "        'ккал/людина/день', labelpad=20,\n",
    "        fontsize=axis_label_fontsize\n",
    "    )\n",
    "\n",
    "    fig.suptitle('Заможніші країни їдять більше жирів і білків, але менше вуглеводів', fontsize=20)\n",
    "    plt.subplots_adjust(top=.85, bottom=.1, wspace=.0)\n",
    "\n",
    "    if save_path:\n",
    "        plt.savefig(save_path)"
   ]
  },
  {
   "cell_type": "code",
   "execution_count": 51,
   "metadata": {},
   "outputs": [
    {
     "data": {
      "image/png": "[encoded data removed]",
      "text/plain": [
       "<matplotlib.figure.Figure at 0x7f6a8159d080>"
      ]
     },
     "metadata": {},
     "output_type": "display_data"
    }
   ],
   "source": [
    "plot_energy_sources(energy_dist_data, save_path='./imgs/energy_dist.svg')"
   ]
  },
  {
   "cell_type": "code",
   "execution_count": 52,
   "metadata": {
    "collapsed": true
   },
   "outputs": [],
   "source": [
    "energy_dist_data['TotalExpLog2'] = np.log2(energy_dist_data.TotalExp)"
   ]
  },
  {
   "cell_type": "code",
   "execution_count": 53,
   "metadata": {},
   "outputs": [
    {
     "data": {
      "image/png": "[encoded data removed]",
      "text/plain": [
       "<matplotlib.figure.Figure at 0x7f6a815b0ef0>"
      ]
     },
     "metadata": {},
     "output_type": "display_data"
    }
   ],
   "source": [
    "# з експоненційною шкалою виходить майже так само, як з рангом, але ранг легше пояснити\n",
    "plot_energy_sources(energy_dist_data, 'TotalExpLog2')"
   ]
  },
  {
   "cell_type": "code",
   "execution_count": 54,
   "metadata": {},
   "outputs": [
    {
     "data": {
      "image/png": "[encoded data removed]",
      "text/plain": [
       "<matplotlib.figure.Figure at 0x7f6a811dbac8>"
      ]
     },
     "metadata": {},
     "output_type": "display_data"
    }
   ],
   "source": [
    "plot_energy_sources(energy_dist_data, 'TotalExp')"
   ]
  },
  {
   "cell_type": "code",
   "execution_count": 55,
   "metadata": {},
   "outputs": [
    {
     "data": {
      "text/plain": [
       "ExpRank            82.000000\n",
       "Fat              1421.552000\n",
       "FoodExp          2347.200000\n",
       "FoodTotal        3682.000000\n",
       "Protein           438.400000\n",
       "TotalExp        35160.600000\n",
       "Carbs            1663.048000\n",
       "TotalExpLog2       15.101672\n",
       "Name: United States, dtype: float64"
      ]
     },
     "execution_count": 55,
     "metadata": {},
     "output_type": "execute_result"
    }
   ],
   "source": [
    "energy_dist_data.loc['United States']"
   ]
  },
  {
   "cell_type": "code",
   "execution_count": 56,
   "metadata": {},
   "outputs": [
    {
     "data": {
      "text/plain": [
       "ExpRank           15.0000\n",
       "Fat              814.9680\n",
       "FoodExp         1090.1000\n",
       "FoodTotal       3138.0000\n",
       "Protein          354.4800\n",
       "TotalExp        2893.7000\n",
       "Carbs           1806.5520\n",
       "TotalExpLog2      11.4987\n",
       "Name: Ukraine, dtype: float64"
      ]
     },
     "execution_count": 56,
     "metadata": {},
     "output_type": "execute_result"
    }
   ],
   "source": [
    "energy_dist_data.loc['Ukraine']"
   ]
  },
  {
   "cell_type": "code",
   "execution_count": 57,
   "metadata": {},
   "outputs": [
    {
     "data": {
      "text/plain": [
       "ExpRank            74.000000\n",
       "Fat              1248.456000\n",
       "FoodExp          2477.200000\n",
       "FoodTotal        3499.000000\n",
       "Protein           406.360000\n",
       "TotalExp        24329.300000\n",
       "Carbs            1589.184000\n",
       "TotalExpLog2       14.570407\n",
       "Name: Germany, dtype: float64"
      ]
     },
     "execution_count": 57,
     "metadata": {},
     "output_type": "execute_result"
    }
   ],
   "source": [
    "energy_dist_data.loc['Germany']"
   ]
  },
  {
   "cell_type": "code",
   "execution_count": 58,
   "metadata": {
    "collapsed": true
   },
   "outputs": [],
   "source": [
    "# TODO можливо, на графіку слід написати, що це забезпечення, а не реальне вживання"
   ]
  },
  {
   "cell_type": "markdown",
   "metadata": {},
   "source": [
    "## Забезпечення головними групами їжі"
   ]
  },
  {
   "cell_type": "code",
   "execution_count": 59,
   "metadata": {
    "collapsed": true
   },
   "outputs": [],
   "source": [
    "# https://www.eatforhealth.gov.au/food-essentials/how-much-do-we-need-each-day/serve-sizes\n",
    "J_to_cal = 0.000239006 * 1000\n",
    "serving_sizes_kJ = {\n",
    "    'vegetables': (100, 350),\n",
    "    'fruits': (350),\n",
    "    'grains': (500),\n",
    "    'protein': (500, 600),\n",
    "    'milk': (500, 600),\n",
    "    # sugar 31 kcal (8g) allowed - 3\n",
    "    # alcohol 125 kcal - allowed 2 \n",
    "    # fat 120 kcal\n",
    "}\n",
    "# https://www.choosemyplate.gov\n",
    "# https://www.eatforhealth.gov.au/food-essentials/how-much-do-we-need-each-day/recommended-number-serves-adults\n",
    "# recommended_serving_num = {\n",
    "#     'vegetables': 5,  # + legumes 2-3 cups on MyPlate\n",
    "#     'fruits': 2,\n",
    "#     'grains': 6,\n",
    "#     'protein': 3,  # 5 ounce equivalent on MyPlate\n",
    "#     'milk': 3,  # 3 cups on MyPlate\n",
    "# }"
   ]
  },
  {
   "cell_type": "code",
   "execution_count": 60,
   "metadata": {
    "collapsed": true
   },
   "outputs": [],
   "source": [
    "# http://database.ukrcensus.gov.ua/Mult/Dialog/varval.asp?ma=000_0204&ti=0204.%20%D0%A0%D0%BE%D0%B7%D0%BF%D0%BE%D0%B4%D1%96%D0%BB%20%D0%BF%D0%BE%D1%81%D1%82%D1%96%D0%B9%D0%BD%D0%BE%D0%B3%D0%BE%20%D0%BD%D0%B0%D1%81%D0%B5%D0%BB%D0%B5%D0%BD%D0%BD%D1%8F%20%D0%B7%D0%B0%20%D1%81%D1%82%D0%B0%D1%82%D1%82%D1%8E,%20%D0%B2%D1%96%D0%BA%D0%BE%D0%B2%D0%B8%D0%BC%D0%B8%20%D0%B3%D1%80%D1%83%D0%BF%D0%B0%D0%BC%D0%B8%20%D1%82%D0%B0%20%D1%82%D0%B8%D0%BF%D0%BE%D0%BC%20%D0%BF%D0%BE%D1%81%D0%B5%D0%BB%D0%B5%D0%BD%D1%8C%20(0,1)&path=../Database/Population/02/02/&lang=1&multilang=uk\n",
    "ua_demographic_structure = pd.read_csv('./ua_demographic_structure.csv', sep='\\t')"
   ]
  },
  {
   "cell_type": "code",
   "execution_count": 61,
   "metadata": {
    "collapsed": true
   },
   "outputs": [],
   "source": [
    "# https://www.eatforhealth.gov.au/food-essentials/how-much-do-we-need-each-day/recommended-number-serves-adults\n",
    "recommended_servings = pd.read_csv('./recommended_servings.csv', sep='\\t')"
   ]
  },
  {
   "cell_type": "code",
   "execution_count": 62,
   "metadata": {},
   "outputs": [
    {
     "data": {
      "text/html": [
       "<div>\n",
       "<style>\n",
       "    .dataframe thead tr:only-child th {\n",
       "        text-align: right;\n",
       "    }\n",
       "\n",
       "    .dataframe thead th {\n",
       "        text-align: left;\n",
       "    }\n",
       "\n",
       "    .dataframe tbody tr th {\n",
       "        vertical-align: top;\n",
       "    }\n",
       "</style>\n",
       "<table border=\"1\" class=\"dataframe\">\n",
       "  <thead>\n",
       "    <tr style=\"text-align: right;\">\n",
       "      <th></th>\n",
       "      <th>Unnamed: 0</th>\n",
       "      <th>vegetables</th>\n",
       "      <th>fruits</th>\n",
       "      <th>grains</th>\n",
       "      <th>protein</th>\n",
       "      <th>milk</th>\n",
       "    </tr>\n",
       "  </thead>\n",
       "  <tbody>\n",
       "    <tr>\n",
       "      <th>0</th>\n",
       "      <td>Men 19-50</td>\n",
       "      <td>6.0</td>\n",
       "      <td>2</td>\n",
       "      <td>6.0</td>\n",
       "      <td>3.0</td>\n",
       "      <td>2.5</td>\n",
       "    </tr>\n",
       "    <tr>\n",
       "      <th>1</th>\n",
       "      <td>Men 51-70</td>\n",
       "      <td>5.5</td>\n",
       "      <td>2</td>\n",
       "      <td>6.0</td>\n",
       "      <td>2.5</td>\n",
       "      <td>2.5</td>\n",
       "    </tr>\n",
       "    <tr>\n",
       "      <th>2</th>\n",
       "      <td>Men 70+</td>\n",
       "      <td>5.0</td>\n",
       "      <td>2</td>\n",
       "      <td>4.5</td>\n",
       "      <td>2.5</td>\n",
       "      <td>3.5</td>\n",
       "    </tr>\n",
       "    <tr>\n",
       "      <th>3</th>\n",
       "      <td>Women 19-50</td>\n",
       "      <td>5.0</td>\n",
       "      <td>2</td>\n",
       "      <td>6.0</td>\n",
       "      <td>2.5</td>\n",
       "      <td>2.5</td>\n",
       "    </tr>\n",
       "    <tr>\n",
       "      <th>4</th>\n",
       "      <td>Women 51-70</td>\n",
       "      <td>5.0</td>\n",
       "      <td>2</td>\n",
       "      <td>4.0</td>\n",
       "      <td>2.0</td>\n",
       "      <td>4.0</td>\n",
       "    </tr>\n",
       "    <tr>\n",
       "      <th>5</th>\n",
       "      <td>Women 70+</td>\n",
       "      <td>5.0</td>\n",
       "      <td>2</td>\n",
       "      <td>3.0</td>\n",
       "      <td>2.0</td>\n",
       "      <td>4.0</td>\n",
       "    </tr>\n",
       "  </tbody>\n",
       "</table>\n",
       "</div>"
      ],
      "text/plain": [
       "    Unnamed: 0  vegetables  fruits  grains  protein  milk\n",
       "0    Men 19-50         6.0       2     6.0      3.0   2.5\n",
       "1    Men 51-70         5.5       2     6.0      2.5   2.5\n",
       "2      Men 70+         5.0       2     4.5      2.5   3.5\n",
       "3  Women 19-50         5.0       2     6.0      2.5   2.5\n",
       "4  Women 51-70         5.0       2     4.0      2.0   4.0\n",
       "5    Women 70+         5.0       2     3.0      2.0   4.0"
      ]
     },
     "execution_count": 62,
     "metadata": {},
     "output_type": "execute_result"
    }
   ],
   "source": [
    "recommended_servings"
   ]
  },
  {
   "cell_type": "code",
   "execution_count": 63,
   "metadata": {
    "collapsed": true
   },
   "outputs": [],
   "source": [
    "# select population groups and count % from total\n",
    "tot_pop = ua_demographic_structure[['Male', 'Female']][19:].sum().sum()\n",
    "age_slices = (slice(19, 51), slice(51, 71), slice(71, None))\n",
    "sexes = ('Male', 'Female')\n",
    "ua_pop_percentage = []\n",
    "for sex, age in product(sexes, age_slices):\n",
    "    ua_pop_percentage.append(ua_demographic_structure[age][sex].sum() / tot_pop)"
   ]
  },
  {
   "cell_type": "code",
   "execution_count": 64,
   "metadata": {},
   "outputs": [
    {
     "data": {
      "text/plain": [
       "1.0"
      ]
     },
     "execution_count": 64,
     "metadata": {},
     "output_type": "execute_result"
    }
   ],
   "source": [
    "np.sum(ua_pop_percentage)"
   ]
  },
  {
   "cell_type": "code",
   "execution_count": 65,
   "metadata": {},
   "outputs": [
    {
     "data": {
      "text/html": [
       "<div>\n",
       "<style>\n",
       "    .dataframe thead tr:only-child th {\n",
       "        text-align: right;\n",
       "    }\n",
       "\n",
       "    .dataframe thead th {\n",
       "        text-align: left;\n",
       "    }\n",
       "\n",
       "    .dataframe tbody tr th {\n",
       "        vertical-align: top;\n",
       "    }\n",
       "</style>\n",
       "<table border=\"1\" class=\"dataframe\">\n",
       "  <thead>\n",
       "    <tr style=\"text-align: right;\">\n",
       "      <th></th>\n",
       "      <th>Unnamed: 0</th>\n",
       "      <th>vegetables</th>\n",
       "      <th>fruits</th>\n",
       "      <th>grains</th>\n",
       "      <th>protein</th>\n",
       "      <th>milk</th>\n",
       "      <th>ua_pop_percentage</th>\n",
       "    </tr>\n",
       "  </thead>\n",
       "  <tbody>\n",
       "    <tr>\n",
       "      <th>0</th>\n",
       "      <td>Men 19-50</td>\n",
       "      <td>6.0</td>\n",
       "      <td>2</td>\n",
       "      <td>6.0</td>\n",
       "      <td>3.0</td>\n",
       "      <td>2.5</td>\n",
       "      <td>0.285603</td>\n",
       "    </tr>\n",
       "    <tr>\n",
       "      <th>1</th>\n",
       "      <td>Men 51-70</td>\n",
       "      <td>5.5</td>\n",
       "      <td>2</td>\n",
       "      <td>6.0</td>\n",
       "      <td>2.5</td>\n",
       "      <td>2.5</td>\n",
       "      <td>0.122938</td>\n",
       "    </tr>\n",
       "    <tr>\n",
       "      <th>2</th>\n",
       "      <td>Men 70+</td>\n",
       "      <td>5.0</td>\n",
       "      <td>2</td>\n",
       "      <td>4.5</td>\n",
       "      <td>2.5</td>\n",
       "      <td>3.5</td>\n",
       "      <td>0.041489</td>\n",
       "    </tr>\n",
       "    <tr>\n",
       "      <th>3</th>\n",
       "      <td>Women 19-50</td>\n",
       "      <td>5.0</td>\n",
       "      <td>2</td>\n",
       "      <td>6.0</td>\n",
       "      <td>2.5</td>\n",
       "      <td>2.5</td>\n",
       "      <td>0.290952</td>\n",
       "    </tr>\n",
       "    <tr>\n",
       "      <th>4</th>\n",
       "      <td>Women 51-70</td>\n",
       "      <td>5.0</td>\n",
       "      <td>2</td>\n",
       "      <td>4.0</td>\n",
       "      <td>2.0</td>\n",
       "      <td>4.0</td>\n",
       "      <td>0.167377</td>\n",
       "    </tr>\n",
       "    <tr>\n",
       "      <th>5</th>\n",
       "      <td>Women 70+</td>\n",
       "      <td>5.0</td>\n",
       "      <td>2</td>\n",
       "      <td>3.0</td>\n",
       "      <td>2.0</td>\n",
       "      <td>4.0</td>\n",
       "      <td>0.091641</td>\n",
       "    </tr>\n",
       "  </tbody>\n",
       "</table>\n",
       "</div>"
      ],
      "text/plain": [
       "    Unnamed: 0  vegetables  fruits  grains  protein  milk  ua_pop_percentage\n",
       "0    Men 19-50         6.0       2     6.0      3.0   2.5           0.285603\n",
       "1    Men 51-70         5.5       2     6.0      2.5   2.5           0.122938\n",
       "2      Men 70+         5.0       2     4.5      2.5   3.5           0.041489\n",
       "3  Women 19-50         5.0       2     6.0      2.5   2.5           0.290952\n",
       "4  Women 51-70         5.0       2     4.0      2.0   4.0           0.167377\n",
       "5    Women 70+         5.0       2     3.0      2.0   4.0           0.091641"
      ]
     },
     "execution_count": 65,
     "metadata": {},
     "output_type": "execute_result"
    }
   ],
   "source": [
    "recommended_servings['ua_pop_percentage'] = ua_pop_percentage\n",
    "recommended_servings"
   ]
  },
  {
   "cell_type": "code",
   "execution_count": 66,
   "metadata": {
    "collapsed": true
   },
   "outputs": [],
   "source": [
    "recommended_servings_num = (recommended_servings[['vegetables', 'fruits', 'grains', 'protein', 'milk']]\n",
    " .multiply(recommended_servings['ua_pop_percentage'], axis=0)\n",
    " .sum(axis=0).round().astype(int))"
   ]
  },
  {
   "cell_type": "code",
   "execution_count": 67,
   "metadata": {
    "collapsed": true
   },
   "outputs": [],
   "source": [
    "guidelines = {}\n",
    "for f in sorted(serving_sizes_kJ):\n",
    "    guidelines[f] = [np.mean(serving_sizes_kJ[f]) * J_to_cal, recommended_servings_num[f]]\n",
    "guidelines = pd.DataFrame(guidelines, index=['kcal_per_serving', 'num_servings'])"
   ]
  },
  {
   "cell_type": "code",
   "execution_count": 68,
   "metadata": {},
   "outputs": [
    {
     "data": {
      "text/plain": [
       "1822.4207499999998"
      ]
     },
     "execution_count": 68,
     "metadata": {},
     "output_type": "execute_result"
    }
   ],
   "source": [
    "# загальна сума виходить більш-менш нормальна, решту можна наїсти будь-чим, мабуть\n",
    "# для жінок виходить якраз +2 порції (~100 kcal) - 2000 kcal, для чоловіків трохи не дотягує, але хай поки так\n",
    "(guidelines.loc['kcal_per_serving'] * guidelines.loc['num_servings']).sum()"
   ]
  },
  {
   "cell_type": "code",
   "execution_count": 69,
   "metadata": {
    "collapsed": true
   },
   "outputs": [],
   "source": [
    "guidelines.loc['recommended_kcal'] = guidelines.loc['kcal_per_serving'] * guidelines.loc['num_servings']"
   ]
  },
  {
   "cell_type": "code",
   "execution_count": 70,
   "metadata": {},
   "outputs": [
    {
     "data": {
      "text/html": [
       "<div>\n",
       "<style>\n",
       "    .dataframe thead tr:only-child th {\n",
       "        text-align: right;\n",
       "    }\n",
       "\n",
       "    .dataframe thead th {\n",
       "        text-align: left;\n",
       "    }\n",
       "\n",
       "    .dataframe tbody tr th {\n",
       "        vertical-align: top;\n",
       "    }\n",
       "</style>\n",
       "<table border=\"1\" class=\"dataframe\">\n",
       "  <thead>\n",
       "    <tr style=\"text-align: right;\">\n",
       "      <th></th>\n",
       "      <th>fruits</th>\n",
       "      <th>grains</th>\n",
       "      <th>milk</th>\n",
       "      <th>protein</th>\n",
       "      <th>vegetables</th>\n",
       "    </tr>\n",
       "  </thead>\n",
       "  <tbody>\n",
       "    <tr>\n",
       "      <th>kcal_per_serving</th>\n",
       "      <td>83.6521</td>\n",
       "      <td>119.503</td>\n",
       "      <td>131.4533</td>\n",
       "      <td>131.4533</td>\n",
       "      <td>53.77635</td>\n",
       "    </tr>\n",
       "    <tr>\n",
       "      <th>num_servings</th>\n",
       "      <td>2.0000</td>\n",
       "      <td>5.000</td>\n",
       "      <td>3.0000</td>\n",
       "      <td>3.0000</td>\n",
       "      <td>5.00000</td>\n",
       "    </tr>\n",
       "    <tr>\n",
       "      <th>recommended_kcal</th>\n",
       "      <td>167.3042</td>\n",
       "      <td>597.515</td>\n",
       "      <td>394.3599</td>\n",
       "      <td>394.3599</td>\n",
       "      <td>268.88175</td>\n",
       "    </tr>\n",
       "  </tbody>\n",
       "</table>\n",
       "</div>"
      ],
      "text/plain": [
       "                    fruits   grains      milk   protein  vegetables\n",
       "kcal_per_serving   83.6521  119.503  131.4533  131.4533    53.77635\n",
       "num_servings        2.0000    5.000    3.0000    3.0000     5.00000\n",
       "recommended_kcal  167.3042  597.515  394.3599  394.3599   268.88175"
      ]
     },
     "execution_count": 70,
     "metadata": {},
     "output_type": "execute_result"
    }
   ],
   "source": [
    "guidelines"
   ]
  },
  {
   "cell_type": "code",
   "execution_count": 71,
   "metadata": {},
   "outputs": [
    {
     "data": {
      "text/plain": [
       "<matplotlib.axes._subplots.AxesSubplot at 0x7f6a857866a0>"
      ]
     },
     "execution_count": 71,
     "metadata": {},
     "output_type": "execute_result"
    },
    {
     "data": {
      "image/png": "[encoded data removed]",
      "text/plain": [
       "<matplotlib.figure.Figure at 0x7f6a85786be0>"
      ]
     },
     "metadata": {},
     "output_type": "display_data"
    }
   ],
   "source": [
    "guidelines.loc['recommended_kcal'].sort_values(ascending=False).plot.barh(figsize=(4, 4))"
   ]
  },
  {
   "cell_type": "code",
   "execution_count": 72,
   "metadata": {
    "collapsed": true
   },
   "outputs": [],
   "source": [
    "groups = {\n",
    "    'alcohol': ['Alcoholic Beverages', ],\n",
    "    'sugar': ['Sugar & Sweeteners'],\n",
    "    'fats': ['Animal fats', 'Vegetable Oils'], \n",
    "    'vegetables': ['Starchy Roots', 'Vegetables'],\n",
    "    'grains': ['Cereals - Excluding Beer', ],\n",
    "    'protein': ['Eggs', 'Fish, Seafood', 'Meat', 'Offals', 'Pulses', 'Treenuts'],\n",
    "    'milk': ['Milk - Excluding Butter', ],\n",
    "    'fruits': ['Fruits - Excluding Wine', ],\n",
    "}"
   ]
  },
  {
   "cell_type": "code",
   "execution_count": 73,
   "metadata": {
    "collapsed": true
   },
   "outputs": [],
   "source": [
    "# some items are duplicated - aggregated and 'normal' names are the same, so I need to exclude the following\n",
    "# 'normal' items\n",
    "exclude_dup_items = [2744, 2848, 2899]"
   ]
  },
  {
   "cell_type": "code",
   "execution_count": 74,
   "metadata": {
    "collapsed": true
   },
   "outputs": [],
   "source": [
    "food_groups = (faostat_data[\n",
    "    faostat_data.Item.isin(chain(*groups.values())) &\n",
    "    (~faostat_data['Item Code'].isin(exclude_dup_items)) &\n",
    "    (faostat_data.Element == 'Food supply (kcal/capita/day)')\n",
    "][['Country', 'Item', 'Value']]\n",
    " .pivot(columns='Country', index='Item', values='Value'))"
   ]
  },
  {
   "cell_type": "code",
   "execution_count": null,
   "metadata": {
    "collapsed": true
   },
   "outputs": [],
   "source": []
  },
  {
   "cell_type": "code",
   "execution_count": 75,
   "metadata": {},
   "outputs": [
    {
     "data": {
      "text/html": [
       "<div>\n",
       "<style>\n",
       "    .dataframe thead tr:only-child th {\n",
       "        text-align: right;\n",
       "    }\n",
       "\n",
       "    .dataframe thead th {\n",
       "        text-align: left;\n",
       "    }\n",
       "\n",
       "    .dataframe tbody tr th {\n",
       "        vertical-align: top;\n",
       "    }\n",
       "</style>\n",
       "<table border=\"1\" class=\"dataframe\">\n",
       "  <thead>\n",
       "    <tr style=\"text-align: right;\">\n",
       "      <th>Country</th>\n",
       "      <th>Afghanistan</th>\n",
       "      <th>Albania</th>\n",
       "      <th>Algeria</th>\n",
       "      <th>Angola</th>\n",
       "      <th>Antigua and Barbuda</th>\n",
       "      <th>Argentina</th>\n",
       "      <th>Armenia</th>\n",
       "      <th>Australia</th>\n",
       "      <th>Austria</th>\n",
       "      <th>Azerbaijan</th>\n",
       "      <th>...</th>\n",
       "      <th>United Republic of Tanzania</th>\n",
       "      <th>United States</th>\n",
       "      <th>Uruguay</th>\n",
       "      <th>Uzbekistan</th>\n",
       "      <th>Vanuatu</th>\n",
       "      <th>Venezuela</th>\n",
       "      <th>Viet Nam</th>\n",
       "      <th>Yemen</th>\n",
       "      <th>Zambia</th>\n",
       "      <th>Zimbabwe</th>\n",
       "    </tr>\n",
       "    <tr>\n",
       "      <th>Item</th>\n",
       "      <th></th>\n",
       "      <th></th>\n",
       "      <th></th>\n",
       "      <th></th>\n",
       "      <th></th>\n",
       "      <th></th>\n",
       "      <th></th>\n",
       "      <th></th>\n",
       "      <th></th>\n",
       "      <th></th>\n",
       "      <th></th>\n",
       "      <th></th>\n",
       "      <th></th>\n",
       "      <th></th>\n",
       "      <th></th>\n",
       "      <th></th>\n",
       "      <th></th>\n",
       "      <th></th>\n",
       "      <th></th>\n",
       "      <th></th>\n",
       "      <th></th>\n",
       "    </tr>\n",
       "  </thead>\n",
       "  <tbody>\n",
       "    <tr>\n",
       "      <th>Alcoholic Beverages</th>\n",
       "      <td>0.0</td>\n",
       "      <td>73.0</td>\n",
       "      <td>7.0</td>\n",
       "      <td>115.0</td>\n",
       "      <td>84.0</td>\n",
       "      <td>105.0</td>\n",
       "      <td>13.0</td>\n",
       "      <td>136.0</td>\n",
       "      <td>243.0</td>\n",
       "      <td>154.0</td>\n",
       "      <td>...</td>\n",
       "      <td>62.0</td>\n",
       "      <td>159.0</td>\n",
       "      <td>84.0</td>\n",
       "      <td>38.0</td>\n",
       "      <td>15.0</td>\n",
       "      <td>91.0</td>\n",
       "      <td>39.0</td>\n",
       "      <td>1.0</td>\n",
       "      <td>32.0</td>\n",
       "      <td>76.0</td>\n",
       "    </tr>\n",
       "    <tr>\n",
       "      <th>Animal fats</th>\n",
       "      <td>38.0</td>\n",
       "      <td>52.0</td>\n",
       "      <td>17.0</td>\n",
       "      <td>12.0</td>\n",
       "      <td>75.0</td>\n",
       "      <td>57.0</td>\n",
       "      <td>113.0</td>\n",
       "      <td>138.0</td>\n",
       "      <td>392.0</td>\n",
       "      <td>66.0</td>\n",
       "      <td>...</td>\n",
       "      <td>19.0</td>\n",
       "      <td>101.0</td>\n",
       "      <td>65.0</td>\n",
       "      <td>39.0</td>\n",
       "      <td>41.0</td>\n",
       "      <td>30.0</td>\n",
       "      <td>48.0</td>\n",
       "      <td>16.0</td>\n",
       "      <td>7.0</td>\n",
       "      <td>28.0</td>\n",
       "    </tr>\n",
       "    <tr>\n",
       "      <th>Cereals - Excluding Beer</th>\n",
       "      <td>1561.0</td>\n",
       "      <td>1145.0</td>\n",
       "      <td>1678.0</td>\n",
       "      <td>717.0</td>\n",
       "      <td>653.0</td>\n",
       "      <td>1060.0</td>\n",
       "      <td>1075.0</td>\n",
       "      <td>740.0</td>\n",
       "      <td>886.0</td>\n",
       "      <td>1794.0</td>\n",
       "      <td>...</td>\n",
       "      <td>943.0</td>\n",
       "      <td>801.0</td>\n",
       "      <td>1087.0</td>\n",
       "      <td>1419.0</td>\n",
       "      <td>808.0</td>\n",
       "      <td>970.0</td>\n",
       "      <td>1552.0</td>\n",
       "      <td>1356.0</td>\n",
       "      <td>1135.0</td>\n",
       "      <td>1146.0</td>\n",
       "    </tr>\n",
       "    <tr>\n",
       "      <th>Eggs</th>\n",
       "      <td>5.0</td>\n",
       "      <td>46.0</td>\n",
       "      <td>27.0</td>\n",
       "      <td>4.0</td>\n",
       "      <td>15.0</td>\n",
       "      <td>41.0</td>\n",
       "      <td>45.0</td>\n",
       "      <td>32.0</td>\n",
       "      <td>57.0</td>\n",
       "      <td>31.0</td>\n",
       "      <td>...</td>\n",
       "      <td>2.0</td>\n",
       "      <td>56.0</td>\n",
       "      <td>47.0</td>\n",
       "      <td>20.0</td>\n",
       "      <td>13.0</td>\n",
       "      <td>20.0</td>\n",
       "      <td>15.0</td>\n",
       "      <td>9.0</td>\n",
       "      <td>11.0</td>\n",
       "      <td>6.0</td>\n",
       "    </tr>\n",
       "    <tr>\n",
       "      <th>Fish, Seafood</th>\n",
       "      <td>0.0</td>\n",
       "      <td>9.0</td>\n",
       "      <td>8.0</td>\n",
       "      <td>25.0</td>\n",
       "      <td>79.0</td>\n",
       "      <td>13.0</td>\n",
       "      <td>9.0</td>\n",
       "      <td>41.0</td>\n",
       "      <td>32.0</td>\n",
       "      <td>5.0</td>\n",
       "      <td>...</td>\n",
       "      <td>13.0</td>\n",
       "      <td>35.0</td>\n",
       "      <td>15.0</td>\n",
       "      <td>2.0</td>\n",
       "      <td>72.0</td>\n",
       "      <td>22.0</td>\n",
       "      <td>52.0</td>\n",
       "      <td>5.0</td>\n",
       "      <td>11.0</td>\n",
       "      <td>6.0</td>\n",
       "    </tr>\n",
       "  </tbody>\n",
       "</table>\n",
       "<p>5 rows × 175 columns</p>\n",
       "</div>"
      ],
      "text/plain": [
       "Country                   Afghanistan  Albania  Algeria  Angola  \\\n",
       "Item                                                              \n",
       "Alcoholic Beverages               0.0     73.0      7.0   115.0   \n",
       "Animal fats                      38.0     52.0     17.0    12.0   \n",
       "Cereals - Excluding Beer       1561.0   1145.0   1678.0   717.0   \n",
       "Eggs                              5.0     46.0     27.0     4.0   \n",
       "Fish, Seafood                     0.0      9.0      8.0    25.0   \n",
       "\n",
       "Country                   Antigua and Barbuda  Argentina  Armenia  Australia  \\\n",
       "Item                                                                           \n",
       "Alcoholic Beverages                      84.0      105.0     13.0      136.0   \n",
       "Animal fats                              75.0       57.0    113.0      138.0   \n",
       "Cereals - Excluding Beer                653.0     1060.0   1075.0      740.0   \n",
       "Eggs                                     15.0       41.0     45.0       32.0   \n",
       "Fish, Seafood                            79.0       13.0      9.0       41.0   \n",
       "\n",
       "Country                   Austria  Azerbaijan    ...     \\\n",
       "Item                                             ...      \n",
       "Alcoholic Beverages         243.0       154.0    ...      \n",
       "Animal fats                 392.0        66.0    ...      \n",
       "Cereals - Excluding Beer    886.0      1794.0    ...      \n",
       "Eggs                         57.0        31.0    ...      \n",
       "Fish, Seafood                32.0         5.0    ...      \n",
       "\n",
       "Country                   United Republic of Tanzania  United States  Uruguay  \\\n",
       "Item                                                                            \n",
       "Alcoholic Beverages                              62.0          159.0     84.0   \n",
       "Animal fats                                      19.0          101.0     65.0   \n",
       "Cereals - Excluding Beer                        943.0          801.0   1087.0   \n",
       "Eggs                                              2.0           56.0     47.0   \n",
       "Fish, Seafood                                    13.0           35.0     15.0   \n",
       "\n",
       "Country                   Uzbekistan  Vanuatu  Venezuela  Viet Nam   Yemen  \\\n",
       "Item                                                                         \n",
       "Alcoholic Beverages             38.0     15.0       91.0      39.0     1.0   \n",
       "Animal fats                     39.0     41.0       30.0      48.0    16.0   \n",
       "Cereals - Excluding Beer      1419.0    808.0      970.0    1552.0  1356.0   \n",
       "Eggs                            20.0     13.0       20.0      15.0     9.0   \n",
       "Fish, Seafood                    2.0     72.0       22.0      52.0     5.0   \n",
       "\n",
       "Country                   Zambia  Zimbabwe  \n",
       "Item                                        \n",
       "Alcoholic Beverages         32.0      76.0  \n",
       "Animal fats                  7.0      28.0  \n",
       "Cereals - Excluding Beer  1135.0    1146.0  \n",
       "Eggs                        11.0       6.0  \n",
       "Fish, Seafood               11.0       6.0  \n",
       "\n",
       "[5 rows x 175 columns]"
      ]
     },
     "execution_count": 75,
     "metadata": {},
     "output_type": "execute_result"
    }
   ],
   "source": [
    "food_groups.head()"
   ]
  },
  {
   "cell_type": "code",
   "execution_count": 76,
   "metadata": {
    "collapsed": true
   },
   "outputs": [],
   "source": [
    "main_food_groups = pd.DataFrame({\n",
    "    group: food_groups.loc[subgroups].sum(axis=0) for group, subgroups in groups.items()\n",
    "})"
   ]
  },
  {
   "cell_type": "code",
   "execution_count": 77,
   "metadata": {},
   "outputs": [
    {
     "data": {
      "text/html": [
       "<div>\n",
       "<style>\n",
       "    .dataframe thead tr:only-child th {\n",
       "        text-align: right;\n",
       "    }\n",
       "\n",
       "    .dataframe thead th {\n",
       "        text-align: left;\n",
       "    }\n",
       "\n",
       "    .dataframe tbody tr th {\n",
       "        vertical-align: top;\n",
       "    }\n",
       "</style>\n",
       "<table border=\"1\" class=\"dataframe\">\n",
       "  <thead>\n",
       "    <tr style=\"text-align: right;\">\n",
       "      <th></th>\n",
       "      <th>alcohol</th>\n",
       "      <th>fats</th>\n",
       "      <th>fruits</th>\n",
       "      <th>grains</th>\n",
       "      <th>milk</th>\n",
       "      <th>protein</th>\n",
       "      <th>sugar</th>\n",
       "      <th>vegetables</th>\n",
       "    </tr>\n",
       "    <tr>\n",
       "      <th>Country</th>\n",
       "      <th></th>\n",
       "      <th></th>\n",
       "      <th></th>\n",
       "      <th></th>\n",
       "      <th></th>\n",
       "      <th></th>\n",
       "      <th></th>\n",
       "      <th></th>\n",
       "    </tr>\n",
       "  </thead>\n",
       "  <tbody>\n",
       "    <tr>\n",
       "      <th>Afghanistan</th>\n",
       "      <td>0.0</td>\n",
       "      <td>128.0</td>\n",
       "      <td>51.0</td>\n",
       "      <td>1561.0</td>\n",
       "      <td>100.0</td>\n",
       "      <td>113.0</td>\n",
       "      <td>87.0</td>\n",
       "      <td>32.0</td>\n",
       "    </tr>\n",
       "    <tr>\n",
       "      <th>Albania</th>\n",
       "      <td>73.0</td>\n",
       "      <td>223.0</td>\n",
       "      <td>221.0</td>\n",
       "      <td>1145.0</td>\n",
       "      <td>533.0</td>\n",
       "      <td>479.0</td>\n",
       "      <td>197.0</td>\n",
       "      <td>229.0</td>\n",
       "    </tr>\n",
       "    <tr>\n",
       "      <th>Algeria</th>\n",
       "      <td>7.0</td>\n",
       "      <td>377.0</td>\n",
       "      <td>215.0</td>\n",
       "      <td>1678.0</td>\n",
       "      <td>227.0</td>\n",
       "      <td>226.0</td>\n",
       "      <td>265.0</td>\n",
       "      <td>250.0</td>\n",
       "    </tr>\n",
       "    <tr>\n",
       "      <th>Angola</th>\n",
       "      <td>115.0</td>\n",
       "      <td>228.0</td>\n",
       "      <td>128.0</td>\n",
       "      <td>717.0</td>\n",
       "      <td>20.0</td>\n",
       "      <td>303.0</td>\n",
       "      <td>146.0</td>\n",
       "      <td>767.0</td>\n",
       "    </tr>\n",
       "    <tr>\n",
       "      <th>Antigua and Barbuda</th>\n",
       "      <td>84.0</td>\n",
       "      <td>292.0</td>\n",
       "      <td>168.0</td>\n",
       "      <td>653.0</td>\n",
       "      <td>224.0</td>\n",
       "      <td>514.0</td>\n",
       "      <td>302.0</td>\n",
       "      <td>105.0</td>\n",
       "    </tr>\n",
       "  </tbody>\n",
       "</table>\n",
       "</div>"
      ],
      "text/plain": [
       "                     alcohol   fats  fruits  grains   milk  protein  sugar  \\\n",
       "Country                                                                      \n",
       "Afghanistan              0.0  128.0    51.0  1561.0  100.0    113.0   87.0   \n",
       "Albania                 73.0  223.0   221.0  1145.0  533.0    479.0  197.0   \n",
       "Algeria                  7.0  377.0   215.0  1678.0  227.0    226.0  265.0   \n",
       "Angola                 115.0  228.0   128.0   717.0   20.0    303.0  146.0   \n",
       "Antigua and Barbuda     84.0  292.0   168.0   653.0  224.0    514.0  302.0   \n",
       "\n",
       "                     vegetables  \n",
       "Country                          \n",
       "Afghanistan                32.0  \n",
       "Albania                   229.0  \n",
       "Algeria                   250.0  \n",
       "Angola                    767.0  \n",
       "Antigua and Barbuda       105.0  "
      ]
     },
     "execution_count": 77,
     "metadata": {},
     "output_type": "execute_result"
    }
   ],
   "source": [
    "main_food_groups.head()"
   ]
  },
  {
   "cell_type": "code",
   "execution_count": 78,
   "metadata": {
    "collapsed": true
   },
   "outputs": [],
   "source": [
    "main_food_groups_servings = (main_food_groups / guidelines.loc['kcal_per_serving']).round().dropna(axis=1)"
   ]
  },
  {
   "cell_type": "code",
   "execution_count": 79,
   "metadata": {
    "collapsed": true
   },
   "outputs": [],
   "source": [
    "for col in main_food_groups_servings:\n",
    "    main_food_groups_servings[col] = main_food_groups_servings[col].astype(int)"
   ]
  },
  {
   "cell_type": "code",
   "execution_count": 80,
   "metadata": {},
   "outputs": [
    {
     "data": {
      "text/html": [
       "<div>\n",
       "<style>\n",
       "    .dataframe thead tr:only-child th {\n",
       "        text-align: right;\n",
       "    }\n",
       "\n",
       "    .dataframe thead th {\n",
       "        text-align: left;\n",
       "    }\n",
       "\n",
       "    .dataframe tbody tr th {\n",
       "        vertical-align: top;\n",
       "    }\n",
       "</style>\n",
       "<table border=\"1\" class=\"dataframe\">\n",
       "  <thead>\n",
       "    <tr style=\"text-align: right;\">\n",
       "      <th></th>\n",
       "      <th>fruits</th>\n",
       "      <th>grains</th>\n",
       "      <th>milk</th>\n",
       "      <th>protein</th>\n",
       "      <th>vegetables</th>\n",
       "    </tr>\n",
       "    <tr>\n",
       "      <th>Country</th>\n",
       "      <th></th>\n",
       "      <th></th>\n",
       "      <th></th>\n",
       "      <th></th>\n",
       "      <th></th>\n",
       "    </tr>\n",
       "  </thead>\n",
       "  <tbody>\n",
       "    <tr>\n",
       "      <th>Afghanistan</th>\n",
       "      <td>1</td>\n",
       "      <td>13</td>\n",
       "      <td>1</td>\n",
       "      <td>1</td>\n",
       "      <td>1</td>\n",
       "    </tr>\n",
       "    <tr>\n",
       "      <th>Albania</th>\n",
       "      <td>3</td>\n",
       "      <td>10</td>\n",
       "      <td>4</td>\n",
       "      <td>4</td>\n",
       "      <td>4</td>\n",
       "    </tr>\n",
       "    <tr>\n",
       "      <th>Algeria</th>\n",
       "      <td>3</td>\n",
       "      <td>14</td>\n",
       "      <td>2</td>\n",
       "      <td>2</td>\n",
       "      <td>5</td>\n",
       "    </tr>\n",
       "    <tr>\n",
       "      <th>Angola</th>\n",
       "      <td>2</td>\n",
       "      <td>6</td>\n",
       "      <td>0</td>\n",
       "      <td>2</td>\n",
       "      <td>14</td>\n",
       "    </tr>\n",
       "    <tr>\n",
       "      <th>Antigua and Barbuda</th>\n",
       "      <td>2</td>\n",
       "      <td>5</td>\n",
       "      <td>2</td>\n",
       "      <td>4</td>\n",
       "      <td>2</td>\n",
       "    </tr>\n",
       "  </tbody>\n",
       "</table>\n",
       "</div>"
      ],
      "text/plain": [
       "                     fruits  grains  milk  protein  vegetables\n",
       "Country                                                       \n",
       "Afghanistan               1      13     1        1           1\n",
       "Albania                   3      10     4        4           4\n",
       "Algeria                   3      14     2        2           5\n",
       "Angola                    2       6     0        2          14\n",
       "Antigua and Barbuda       2       5     2        4           2"
      ]
     },
     "execution_count": 80,
     "metadata": {},
     "output_type": "execute_result"
    }
   ],
   "source": [
    "main_food_groups_servings.head()"
   ]
  },
  {
   "cell_type": "code",
   "execution_count": 81,
   "metadata": {},
   "outputs": [
    {
     "data": {
      "text/plain": [
       "fruits        1\n",
       "grains        9\n",
       "milk          2\n",
       "protein       3\n",
       "vegetables    7\n",
       "Name: Ukraine, dtype: int64"
      ]
     },
     "execution_count": 81,
     "metadata": {},
     "output_type": "execute_result"
    }
   ],
   "source": [
    "main_food_groups_servings.loc['Ukraine']"
   ]
  },
  {
   "cell_type": "code",
   "execution_count": 82,
   "metadata": {
    "collapsed": true
   },
   "outputs": [],
   "source": [
    "food_groups_colors = {\n",
    "    'fruits': \"#7500B4\", \n",
    "    'grains': '#0064A4',\n",
    "    'milk': '#FFA103',\n",
    "    'protein': '#FF2445',\n",
    "    'vegetables': '#56BA00',\n",
    "}"
   ]
  },
  {
   "cell_type": "code",
   "execution_count": 119,
   "metadata": {},
   "outputs": [
    {
     "data": {
      "text/html": [
       "<div>\n",
       "<style>\n",
       "    .dataframe thead tr:only-child th {\n",
       "        text-align: right;\n",
       "    }\n",
       "\n",
       "    .dataframe thead th {\n",
       "        text-align: left;\n",
       "    }\n",
       "\n",
       "    .dataframe tbody tr th {\n",
       "        vertical-align: top;\n",
       "    }\n",
       "</style>\n",
       "<table border=\"1\" class=\"dataframe\">\n",
       "  <thead>\n",
       "    <tr style=\"text-align: right;\">\n",
       "      <th></th>\n",
       "      <th>ExpRank</th>\n",
       "      <th>Fat</th>\n",
       "      <th>FoodExp</th>\n",
       "      <th>FoodTotal</th>\n",
       "      <th>Protein</th>\n",
       "      <th>TotalExp</th>\n",
       "      <th>Carbs</th>\n",
       "      <th>TotalExpLog2</th>\n",
       "    </tr>\n",
       "  </thead>\n",
       "  <tbody>\n",
       "    <tr>\n",
       "      <th>Algeria</th>\n",
       "      <td>7.0</td>\n",
       "      <td>673.640</td>\n",
       "      <td>792.0</td>\n",
       "      <td>3296.0</td>\n",
       "      <td>367.84</td>\n",
       "      <td>1858.7</td>\n",
       "      <td>2247.520</td>\n",
       "      <td>10.860078</td>\n",
       "    </tr>\n",
       "    <tr>\n",
       "      <th>Argentina</th>\n",
       "      <td>49.0</td>\n",
       "      <td>1024.848</td>\n",
       "      <td>1991.5</td>\n",
       "      <td>3229.0</td>\n",
       "      <td>410.56</td>\n",
       "      <td>9630.7</td>\n",
       "      <td>1688.592</td>\n",
       "      <td>13.233425</td>\n",
       "    </tr>\n",
       "    <tr>\n",
       "      <th>Australia</th>\n",
       "      <td>83.0</td>\n",
       "      <td>1327.480</td>\n",
       "      <td>3582.6</td>\n",
       "      <td>3276.0</td>\n",
       "      <td>425.12</td>\n",
       "      <td>36004.2</td>\n",
       "      <td>1387.400</td>\n",
       "      <td>15.135878</td>\n",
       "    </tr>\n",
       "    <tr>\n",
       "      <th>Austria</th>\n",
       "      <td>79.0</td>\n",
       "      <td>1499.872</td>\n",
       "      <td>2730.3</td>\n",
       "      <td>3768.0</td>\n",
       "      <td>424.84</td>\n",
       "      <td>27383.9</td>\n",
       "      <td>1600.288</td>\n",
       "      <td>14.741040</td>\n",
       "    </tr>\n",
       "    <tr>\n",
       "      <th>Azerbaijan</th>\n",
       "      <td>20.0</td>\n",
       "      <td>521.576</td>\n",
       "      <td>1345.4</td>\n",
       "      <td>3118.0</td>\n",
       "      <td>372.60</td>\n",
       "      <td>3244.7</td>\n",
       "      <td>2069.824</td>\n",
       "      <td>11.663869</td>\n",
       "    </tr>\n",
       "  </tbody>\n",
       "</table>\n",
       "</div>"
      ],
      "text/plain": [
       "            ExpRank       Fat  FoodExp  FoodTotal  Protein  TotalExp  \\\n",
       "Algeria         7.0   673.640    792.0     3296.0   367.84    1858.7   \n",
       "Argentina      49.0  1024.848   1991.5     3229.0   410.56    9630.7   \n",
       "Australia      83.0  1327.480   3582.6     3276.0   425.12   36004.2   \n",
       "Austria        79.0  1499.872   2730.3     3768.0   424.84   27383.9   \n",
       "Azerbaijan     20.0   521.576   1345.4     3118.0   372.60    3244.7   \n",
       "\n",
       "               Carbs  TotalExpLog2  \n",
       "Algeria     2247.520     10.860078  \n",
       "Argentina   1688.592     13.233425  \n",
       "Australia   1387.400     15.135878  \n",
       "Austria     1600.288     14.741040  \n",
       "Azerbaijan  2069.824     11.663869  "
      ]
     },
     "execution_count": 119,
     "metadata": {},
     "output_type": "execute_result"
    }
   ],
   "source": [
    "energy_dist_data.head()"
   ]
  },
  {
   "cell_type": "code",
   "execution_count": 130,
   "metadata": {},
   "outputs": [],
   "source": [
    "groups_order = ['grains', 'vegetables', 'milk', 'protein', 'fruits']\n",
    "\n",
    "def draw_a_square(x, y, color, ax, height=1, filled=False):\n",
    "    offset = .05\n",
    "    xs = [(x + 0.5 + offset), (x + 1.5 - offset)]\n",
    "    bottom = [(y + offset)] * 2\n",
    "    top = [(y + 1 - offset)] * 2\n",
    "    patch = matplotlib.patches.Rectangle(\n",
    "        (x + 0.5 + offset, y + offset),\n",
    "        width=1 - offset*2,\n",
    "        height=(1 - offset*2) * height,\n",
    "        facecolor=color,\n",
    "        fill=filled,\n",
    "        edgecolor=color,\n",
    "        linewidth=2 if not filled else 0,\n",
    "        alpha=1 if not filled else .7,\n",
    "    )\n",
    "    ax.add_patch(patch)\n",
    "\n",
    "\n",
    "def draw_guidlines(guidlines_df, ax):\n",
    "    for x, col in enumerate(groups_order):\n",
    "        for y in range(int(guidlines_df[col].num_servings)):\n",
    "            draw_a_square(x, y, food_groups_colors[col], ax)\n",
    "    \n",
    "    # additional portions\n",
    "    # additional_portions = 2\n",
    "    # for y in range(additional_portions):\n",
    "    #    draw_a_square(len(guidlines_df.columns) + 0.5, y, '#333333', ax)\n",
    "\n",
    "\n",
    "def draw_country_portions(country, guidlines_df, ax):\n",
    "    remains = {}\n",
    "    recommended_servings = guidlines_df.loc['num_servings']\n",
    "    \n",
    "    # draw recommended portions\n",
    "    for x, group in enumerate(groups_order):\n",
    "        remains[group] = max(country[group] - recommended_servings[group], 0)\n",
    "        for y in range(min(country[group], int(recommended_servings[group]))):\n",
    "            draw_a_square(x, y, food_groups_colors[group], ax, filled=True)\n",
    "    \n",
    "    # draw extra portions\n",
    "    x = len(groups_order) + .5\n",
    "    y = 0\n",
    "    for group in groups_order:\n",
    "        for _ in range(int(remains[group])):\n",
    "            draw_a_square(x, y, food_groups_colors[group], ax, filled=True)\n",
    "            y += 1\n",
    "\n",
    "def draw_country_calories_from_main_food(country_calory_dist, country_energy_dist, ax):\n",
    "    # calculate this hardcoded value\n",
    "    y = 7\n",
    "    x = 7\n",
    "    height = .4\n",
    "    main_group = country_calory_dist[groups_order].sum()\n",
    "    total = country_energy_dist.FoodTotal\n",
    "    print(total, main_group, total - main_group)\n",
    "    percent = main_group / total\n",
    "    all_cal_patch = matplotlib.patches.Rectangle(\n",
    "        (0.5, y - .5), width=x - 0.5, height=height, fill=False, linewidth=1, color='gray'\n",
    "    )\n",
    "    main_cal_length = (x - 0.5) * percent\n",
    "    main_cal_patch = matplotlib.patches.Rectangle(\n",
    "        (0.5, y - .5), width=main_cal_length, height=height, linewidth=1, color='gray', alpha=.5\n",
    "    )\n",
    "    ax.add_patch(all_cal_patch)\n",
    "    ax.add_patch(main_cal_patch)\n",
    "    ax.annotate('{0:.1f}%'.format(percent * 100), (main_cal_length - .6, y - .43), color='white')"
   ]
  },
  {
   "cell_type": "code",
   "execution_count": 131,
   "metadata": {
    "collapsed": true
   },
   "outputs": [],
   "source": [
    "def plot_country_food_groups(country, title, ax):\n",
    "    draw_guidlines(guidelines, ax)\n",
    "    draw_country_portions(main_food_groups_servings.loc[country], guidelines, ax)\n",
    "    draw_country_calories_from_main_food(main_food_groups.loc[country], energy_dist_data.loc[country], ax)\n",
    "\n",
    "    ax.set_xlim(0, 7.5)\n",
    "    ax.set_ylim(0, 7.5)\n",
    "    ax.set_xticks([])\n",
    "    ax.set_yticks([])\n",
    "    ax.set_title(title)\n",
    "    #ax.set_facecolor('white')\n",
    "    ax.grid(b=False)"
   ]
  },
  {
   "cell_type": "code",
   "execution_count": 132,
   "metadata": {},
   "outputs": [
    {
     "name": "stdout",
     "output_type": "stream",
     "text": [
      "3138.0 2114.0 1024.0\n",
      "3499.0 1989.0 1510.0\n",
      "3682.0 2038.0 1644.0\n"
     ]
    },
    {
     "data": {
      "image/png": "[encoded data removed]",
      "text/plain": [
       "<matplotlib.figure.Figure at 0x7f6a8109f048>"
      ]
     },
     "metadata": {},
     "output_type": "display_data"
    }
   ],
   "source": [
    "fig = plt.figure(figsize=(12, 12))\n",
    "plot_country_food_groups('Ukraine', 'Україна', fig.add_subplot(2, 2, 1))\n",
    "plot_country_food_groups('Germany', 'Німеччина', fig.add_subplot(2, 2, 3))\n",
    "plot_country_food_groups('United States', 'Сполучені Штати', fig.add_subplot(2, 2, 4))\n",
    "# plt.savefig('./imgs/food_groups.svg')"
   ]
  },
  {
   "cell_type": "code",
   "execution_count": 86,
   "metadata": {
    "collapsed": true
   },
   "outputs": [],
   "source": [
    "foods_kcal = (faostat_data[\n",
    "    (~faostat_data.Item.isin(chain(\n",
    "        ['Grand Total', 'Vegetal Products', 'Animal Products', 'Miscellaneous'], *groups.values()\n",
    "    )) | \n",
    "     (faostat_data['Item Code'].isin(exclude_dup_items))) &\n",
    "    (faostat_data.Element == 'Food supply (kcal/capita/day)')\n",
    "][['Country', 'Item', 'Value']]\n",
    ".pivot(columns='Country', index='Item', values='Value')\n",
    ".fillna(0)\n",
    ")"
   ]
  },
  {
   "cell_type": "code",
   "execution_count": 117,
   "metadata": {},
   "outputs": [
    {
     "data": {
      "text/plain": [
       "Country\n",
       "Germany          68.0\n",
       "Ukraine          23.0\n",
       "United States    95.0\n",
       "dtype: float64"
      ]
     },
     "execution_count": 117,
     "metadata": {},
     "output_type": "execute_result"
    }
   ],
   "source": [
    "faostat_data[\n",
    "    (faostat_data.Item.isin([\n",
    "        'Oilcrops', 'Sugar Crops', 'Stimulants', 'Spices'\n",
    "    ])) &\n",
    "    (faostat_data.Element == 'Food supply (kcal/capita/day)') &\n",
    "    (faostat_data.Country.isin(['Ukraine', 'Germany', 'United States']))\n",
    "][['Country', 'Item', 'Value']].pivot(index='Country', columns='Item', values='Value').sum(axis=1)"
   ]
  },
  {
   "cell_type": "code",
   "execution_count": 87,
   "metadata": {},
   "outputs": [
    {
     "data": {
      "text/html": [
       "<div>\n",
       "<style>\n",
       "    .dataframe thead tr:only-child th {\n",
       "        text-align: right;\n",
       "    }\n",
       "\n",
       "    .dataframe thead th {\n",
       "        text-align: left;\n",
       "    }\n",
       "\n",
       "    .dataframe tbody tr th {\n",
       "        vertical-align: top;\n",
       "    }\n",
       "</style>\n",
       "<table border=\"1\" class=\"dataframe\">\n",
       "  <thead>\n",
       "    <tr style=\"text-align: right;\">\n",
       "      <th></th>\n",
       "      <th>fruits</th>\n",
       "      <th>grains</th>\n",
       "      <th>milk</th>\n",
       "      <th>protein</th>\n",
       "      <th>vegetables</th>\n",
       "    </tr>\n",
       "  </thead>\n",
       "  <tbody>\n",
       "    <tr>\n",
       "      <th>kcal_per_serving</th>\n",
       "      <td>83.6521</td>\n",
       "      <td>119.503</td>\n",
       "      <td>131.4533</td>\n",
       "      <td>131.4533</td>\n",
       "      <td>53.77635</td>\n",
       "    </tr>\n",
       "    <tr>\n",
       "      <th>num_servings</th>\n",
       "      <td>2.0000</td>\n",
       "      <td>5.000</td>\n",
       "      <td>3.0000</td>\n",
       "      <td>3.0000</td>\n",
       "      <td>5.00000</td>\n",
       "    </tr>\n",
       "    <tr>\n",
       "      <th>recommended_kcal</th>\n",
       "      <td>167.3042</td>\n",
       "      <td>597.515</td>\n",
       "      <td>394.3599</td>\n",
       "      <td>394.3599</td>\n",
       "      <td>268.88175</td>\n",
       "    </tr>\n",
       "  </tbody>\n",
       "</table>\n",
       "</div>"
      ],
      "text/plain": [
       "                    fruits   grains      milk   protein  vegetables\n",
       "kcal_per_serving   83.6521  119.503  131.4533  131.4533    53.77635\n",
       "num_servings        2.0000    5.000    3.0000    3.0000     5.00000\n",
       "recommended_kcal  167.3042  597.515  394.3599  394.3599   268.88175"
      ]
     },
     "execution_count": 87,
     "metadata": {},
     "output_type": "execute_result"
    }
   ],
   "source": [
    "guidelines"
   ]
  },
  {
   "cell_type": "code",
   "execution_count": 88,
   "metadata": {},
   "outputs": [
    {
     "data": {
      "text/plain": [
       "4.6302882214951371"
      ]
     },
     "execution_count": 88,
     "metadata": {},
     "output_type": "execute_result"
    }
   ],
   "source": [
    "foods_kcal['Ukraine']['Potatoes and products'] / guidelines.vegetables['kcal_per_serving']"
   ]
  },
  {
   "cell_type": "code",
   "execution_count": 89,
   "metadata": {},
   "outputs": [
    {
     "data": {
      "text/plain": [
       "2.138486527999762"
      ]
     },
     "execution_count": 89,
     "metadata": {},
     "output_type": "execute_result"
    }
   ],
   "source": [
    "foods_kcal['Germany']['Potatoes and products'] / guidelines.vegetables['kcal_per_serving']"
   ]
  },
  {
   "cell_type": "code",
   "execution_count": 90,
   "metadata": {},
   "outputs": [
    {
     "data": {
      "text/plain": [
       "1.5620249421911305"
      ]
     },
     "execution_count": 90,
     "metadata": {},
     "output_type": "execute_result"
    }
   ],
   "source": [
    "foods_kcal['United States']['Potatoes and products'] / guidelines.vegetables['kcal_per_serving']"
   ]
  },
  {
   "cell_type": "code",
   "execution_count": 91,
   "metadata": {
    "collapsed": true
   },
   "outputs": [],
   "source": [
    "foods_quant = (faostat_data[\n",
    "    (~faostat_data.Item.isin(chain(\n",
    "        ['Grand Total', 'Vegetal Products', 'Animal Products', 'Miscellaneous'], *groups.values()\n",
    "    )) | \n",
    "     (faostat_data['Item Code'].isin(exclude_dup_items))) &\n",
    "    (faostat_data.Element == 'Food supply quantity (kg/capita/yr)')\n",
    "][['Country', 'Item', 'Value']]\n",
    ".pivot(columns='Country', index='Item', values='Value')\n",
    ".fillna(0)\n",
    ")"
   ]
  },
  {
   "cell_type": "code",
   "execution_count": 92,
   "metadata": {},
   "outputs": [
    {
     "name": "stdout",
     "output_type": "stream",
     "text": [
      "Картошечка: держстат: 7.1, faostat: 11.25\n",
      "Овочі: держстат: 9.4, faostat: 13.58\n",
      "Мʼясо: держстат: 5.1, faostat: 4.50\n",
      "Риба: держстат: 1.8, faostat: 1.42\n",
      "Молоко: держстат: 20.3, faostat: 12.08\n"
     ]
    }
   ],
   "source": [
    "# comparison wiht Ukrainian derzhstat data, kg/month\n",
    "print('Картошечка: держстат: 7.1, faostat: {}'.format(135 / 12))\n",
    "print('Овочі: держстат: 9.4, faostat: {:.2f}'.format(163 / 12))\n",
    "print('Мʼясо: держстат: 5.1, faostat: {:.2f}'.format(54 / 12))\n",
    "print('Риба: держстат: 1.8, faostat: {:.2f}'.format(17 / 12))\n",
    "print('Молоко: держстат: 20.3, faostat: {:.2f}'.format(145 / 12))"
   ]
  },
  {
   "cell_type": "code",
   "execution_count": 93,
   "metadata": {
    "collapsed": true
   },
   "outputs": [],
   "source": [
    "def energy_from_main_groups_and_the_rest(country):\n",
    "    from_main_groups = main_food_groups.loc[country][groups_order].sum()\n",
    "    total = main_food_groups.loc[country].sum()\n",
    "    print(total)\n",
    "    return from_main_groups, total - from_main_groups"
   ]
  },
  {
   "cell_type": "code",
   "execution_count": 94,
   "metadata": {},
   "outputs": [
    {
     "name": "stdout",
     "output_type": "stream",
     "text": [
      "3114.0\n"
     ]
    },
    {
     "data": {
      "text/plain": [
       "(2114.0, 1000.0)"
      ]
     },
     "execution_count": 94,
     "metadata": {},
     "output_type": "execute_result"
    }
   ],
   "source": [
    "energy_from_main_groups_and_the_rest('Ukraine')"
   ]
  },
  {
   "cell_type": "code",
   "execution_count": 95,
   "metadata": {},
   "outputs": [
    {
     "name": "stdout",
     "output_type": "stream",
     "text": [
      "3429.0\n"
     ]
    },
    {
     "data": {
      "text/plain": [
       "(1989.0, 1440.0)"
      ]
     },
     "execution_count": 95,
     "metadata": {},
     "output_type": "execute_result"
    }
   ],
   "source": [
    "energy_from_main_groups_and_the_rest('Germany')"
   ]
  },
  {
   "cell_type": "code",
   "execution_count": 96,
   "metadata": {},
   "outputs": [
    {
     "name": "stdout",
     "output_type": "stream",
     "text": [
      "3587.0\n"
     ]
    },
    {
     "data": {
      "text/plain": [
       "(2038.0, 1549.0)"
      ]
     },
     "execution_count": 96,
     "metadata": {},
     "output_type": "execute_result"
    }
   ],
   "source": [
    "energy_from_main_groups_and_the_rest('United States')"
   ]
  },
  {
   "cell_type": "code",
   "execution_count": 97,
   "metadata": {},
   "outputs": [
    {
     "data": {
      "text/plain": [
       "102"
      ]
     },
     "execution_count": 97,
     "metadata": {},
     "output_type": "execute_result"
    }
   ],
   "source": [
    "len(foods_kcal.index)"
   ]
  },
  {
   "cell_type": "markdown",
   "metadata": {
    "collapsed": true
   },
   "source": [
    "## Багатство й індекс маси тіла"
   ]
  },
  {
   "cell_type": "code",
   "execution_count": 98,
   "metadata": {
    "collapsed": true
   },
   "outputs": [],
   "source": [
    "who_data_2013 = who_data[[' 2013']]\n",
    "who_data_2013.columns = ['Male', 'Female']"
   ]
  },
  {
   "cell_type": "code",
   "execution_count": 99,
   "metadata": {},
   "outputs": [
    {
     "data": {
      "text/html": [
       "<div>\n",
       "<style>\n",
       "    .dataframe thead tr:only-child th {\n",
       "        text-align: right;\n",
       "    }\n",
       "\n",
       "    .dataframe thead th {\n",
       "        text-align: left;\n",
       "    }\n",
       "\n",
       "    .dataframe tbody tr th {\n",
       "        vertical-align: top;\n",
       "    }\n",
       "</style>\n",
       "<table border=\"1\" class=\"dataframe\">\n",
       "  <thead>\n",
       "    <tr style=\"text-align: right;\">\n",
       "      <th></th>\n",
       "      <th>Male</th>\n",
       "      <th>Female</th>\n",
       "    </tr>\n",
       "  </thead>\n",
       "  <tbody>\n",
       "    <tr>\n",
       "      <th>Afghanistan</th>\n",
       "      <td>21.5</td>\n",
       "      <td>23.5</td>\n",
       "    </tr>\n",
       "    <tr>\n",
       "      <th>Albania</th>\n",
       "      <td>26.5</td>\n",
       "      <td>25.7</td>\n",
       "    </tr>\n",
       "    <tr>\n",
       "      <th>Algeria</th>\n",
       "      <td>24.2</td>\n",
       "      <td>25.9</td>\n",
       "    </tr>\n",
       "    <tr>\n",
       "      <th>Andorra</th>\n",
       "      <td>27.6</td>\n",
       "      <td>26.6</td>\n",
       "    </tr>\n",
       "    <tr>\n",
       "      <th>Angola</th>\n",
       "      <td>22.7</td>\n",
       "      <td>24.0</td>\n",
       "    </tr>\n",
       "  </tbody>\n",
       "</table>\n",
       "</div>"
      ],
      "text/plain": [
       "             Male  Female\n",
       "Afghanistan  21.5    23.5\n",
       "Albania      26.5    25.7\n",
       "Algeria      24.2    25.9\n",
       "Andorra      27.6    26.6\n",
       "Angola       22.7    24.0"
      ]
     },
     "execution_count": 99,
     "metadata": {},
     "output_type": "execute_result"
    }
   ],
   "source": [
    "who_data_2013.head()"
   ]
  },
  {
   "cell_type": "code",
   "execution_count": 100,
   "metadata": {
    "collapsed": true
   },
   "outputs": [],
   "source": [
    "bmi_and_expend_data = pd.merge(who_data_2013, ers_official, left_index=True, right_index=True)"
   ]
  },
  {
   "cell_type": "code",
   "execution_count": 101,
   "metadata": {},
   "outputs": [
    {
     "data": {
      "image/png": "[encoded data removed]",
      "text/plain": [
       "<matplotlib.figure.Figure at 0x7f6a812180b8>"
      ]
     },
     "metadata": {},
     "output_type": "display_data"
    }
   ],
   "source": [
    "fig = plt.figure(figsize=(20, 3.5))\n",
    "\n",
    "plt.fill_between([-2, 90], [20, 20], [24.9, 24.9], color='white')\n",
    "\n",
    "for row in bmi_and_expend_data.iterrows():\n",
    "    male = row[1].Male\n",
    "    female = row[1].Female\n",
    "    avg = (male + female) / 2\n",
    "    rank = row[1].ExpRating\n",
    "    line_len = 1.5\n",
    "    plt.plot([rank - line_len, rank], [male, avg], linewidth=male ** 2 / 300, c=colors['blue'])\n",
    "    plt.plot([rank, rank + line_len], [avg, female], linewidth=female ** 2 / 300, c=colors['red'])\n",
    "    if male > female:\n",
    "        plt.scatter([rank - line_len], [male], c=colors['blue'], s=male**2 / 14)\n",
    "    else:\n",
    "        plt.scatter([rank + line_len], [female], c=colors['red'], s=female**2 / 14)\n",
    "\n",
    "\n",
    "for func in [annotate_ua, annotate_de, annotate_us]:\n",
    "    func(df=bmi_and_expend_data, ax=fig.axes[0], x_col='ExpRating', y_col='Female', x_offset=0, y_offset=0)\n",
    "\n",
    "plt.gca().invert_yaxis()\n",
    "fig.axes[0].grid(b=False)\n",
    "fig.axes[0].set_xticks([])\n",
    "\n",
    "plt.savefig('./imgs/bmi.svg')"
   ]
  },
  {
   "cell_type": "code",
   "execution_count": 102,
   "metadata": {},
   "outputs": [
    {
     "data": {
      "text/html": [
       "<div>\n",
       "<style>\n",
       "    .dataframe thead tr:only-child th {\n",
       "        text-align: right;\n",
       "    }\n",
       "\n",
       "    .dataframe thead th {\n",
       "        text-align: left;\n",
       "    }\n",
       "\n",
       "    .dataframe tbody tr th {\n",
       "        vertical-align: top;\n",
       "    }\n",
       "</style>\n",
       "<table border=\"1\" class=\"dataframe\">\n",
       "  <thead>\n",
       "    <tr style=\"text-align: right;\">\n",
       "      <th></th>\n",
       "      <th>Male</th>\n",
       "      <th>Female</th>\n",
       "      <th>TotalExp</th>\n",
       "      <th>FoodExp</th>\n",
       "      <th>ExpRating</th>\n",
       "    </tr>\n",
       "  </thead>\n",
       "  <tbody>\n",
       "    <tr>\n",
       "      <th>India</th>\n",
       "      <td>21.2</td>\n",
       "      <td>21.5</td>\n",
       "      <td>933.2</td>\n",
       "      <td>284.9</td>\n",
       "      <td>0</td>\n",
       "    </tr>\n",
       "    <tr>\n",
       "      <th>Pakistan</th>\n",
       "      <td>23.3</td>\n",
       "      <td>24.3</td>\n",
       "      <td>983.2</td>\n",
       "      <td>419.5</td>\n",
       "      <td>1</td>\n",
       "    </tr>\n",
       "    <tr>\n",
       "      <th>Cameroon</th>\n",
       "      <td>23.4</td>\n",
       "      <td>24.9</td>\n",
       "      <td>1010.0</td>\n",
       "      <td>462.1</td>\n",
       "      <td>2</td>\n",
       "    </tr>\n",
       "    <tr>\n",
       "      <th>Kenya</th>\n",
       "      <td>22.2</td>\n",
       "      <td>23.9</td>\n",
       "      <td>1081.9</td>\n",
       "      <td>507.5</td>\n",
       "      <td>4</td>\n",
       "    </tr>\n",
       "    <tr>\n",
       "      <th>Bolivia</th>\n",
       "      <td>24.9</td>\n",
       "      <td>27.3</td>\n",
       "      <td>1772.6</td>\n",
       "      <td>508.0</td>\n",
       "      <td>6</td>\n",
       "    </tr>\n",
       "    <tr>\n",
       "      <th>Algeria</th>\n",
       "      <td>24.2</td>\n",
       "      <td>25.9</td>\n",
       "      <td>1858.7</td>\n",
       "      <td>792.0</td>\n",
       "      <td>7</td>\n",
       "    </tr>\n",
       "    <tr>\n",
       "      <th>Philippines</th>\n",
       "      <td>23.0</td>\n",
       "      <td>23.3</td>\n",
       "      <td>2068.3</td>\n",
       "      <td>877.9</td>\n",
       "      <td>8</td>\n",
       "    </tr>\n",
       "    <tr>\n",
       "      <th>Indonesia</th>\n",
       "      <td>22.2</td>\n",
       "      <td>23.3</td>\n",
       "      <td>2069.6</td>\n",
       "      <td>687.1</td>\n",
       "      <td>9</td>\n",
       "    </tr>\n",
       "    <tr>\n",
       "      <th>Nigeria</th>\n",
       "      <td>22.7</td>\n",
       "      <td>23.9</td>\n",
       "      <td>2130.0</td>\n",
       "      <td>1208.2</td>\n",
       "      <td>10</td>\n",
       "    </tr>\n",
       "    <tr>\n",
       "      <th>Morocco</th>\n",
       "      <td>24.8</td>\n",
       "      <td>26.1</td>\n",
       "      <td>2159.3</td>\n",
       "      <td>773.8</td>\n",
       "      <td>11</td>\n",
       "    </tr>\n",
       "    <tr>\n",
       "      <th>China</th>\n",
       "      <td>24.1</td>\n",
       "      <td>23.3</td>\n",
       "      <td>2506.1</td>\n",
       "      <td>653.7</td>\n",
       "      <td>13</td>\n",
       "    </tr>\n",
       "    <tr>\n",
       "      <th>Thailand</th>\n",
       "      <td>23.4</td>\n",
       "      <td>24.4</td>\n",
       "      <td>3673.3</td>\n",
       "      <td>907.9</td>\n",
       "      <td>22</td>\n",
       "    </tr>\n",
       "    <tr>\n",
       "      <th>South Africa</th>\n",
       "      <td>24.8</td>\n",
       "      <td>29.2</td>\n",
       "      <td>4241.9</td>\n",
       "      <td>815.7</td>\n",
       "      <td>27</td>\n",
       "    </tr>\n",
       "    <tr>\n",
       "      <th>South Korea</th>\n",
       "      <td>24.1</td>\n",
       "      <td>23.2</td>\n",
       "      <td>12419.5</td>\n",
       "      <td>1663.5</td>\n",
       "      <td>58</td>\n",
       "    </tr>\n",
       "    <tr>\n",
       "      <th>Singapore</th>\n",
       "      <td>24.2</td>\n",
       "      <td>23.1</td>\n",
       "      <td>21104.1</td>\n",
       "      <td>1424.3</td>\n",
       "      <td>66</td>\n",
       "    </tr>\n",
       "    <tr>\n",
       "      <th>Japan</th>\n",
       "      <td>23.5</td>\n",
       "      <td>21.8</td>\n",
       "      <td>22883.4</td>\n",
       "      <td>3261.6</td>\n",
       "      <td>70</td>\n",
       "    </tr>\n",
       "  </tbody>\n",
       "</table>\n",
       "</div>"
      ],
      "text/plain": [
       "              Male  Female  TotalExp  FoodExp  ExpRating\n",
       "India         21.2    21.5     933.2    284.9          0\n",
       "Pakistan      23.3    24.3     983.2    419.5          1\n",
       "Cameroon      23.4    24.9    1010.0    462.1          2\n",
       "Kenya         22.2    23.9    1081.9    507.5          4\n",
       "Bolivia       24.9    27.3    1772.6    508.0          6\n",
       "Algeria       24.2    25.9    1858.7    792.0          7\n",
       "Philippines   23.0    23.3    2068.3    877.9          8\n",
       "Indonesia     22.2    23.3    2069.6    687.1          9\n",
       "Nigeria       22.7    23.9    2130.0   1208.2         10\n",
       "Morocco       24.8    26.1    2159.3    773.8         11\n",
       "China         24.1    23.3    2506.1    653.7         13\n",
       "Thailand      23.4    24.4    3673.3    907.9         22\n",
       "South Africa  24.8    29.2    4241.9    815.7         27\n",
       "South Korea   24.1    23.2   12419.5   1663.5         58\n",
       "Singapore     24.2    23.1   21104.1   1424.3         66\n",
       "Japan         23.5    21.8   22883.4   3261.6         70"
      ]
     },
     "execution_count": 102,
     "metadata": {},
     "output_type": "execute_result"
    }
   ],
   "source": [
    "bmi_and_expend_data[bmi_and_expend_data.Male < 25].sort_values('ExpRating')"
   ]
  },
  {
   "cell_type": "code",
   "execution_count": 103,
   "metadata": {},
   "outputs": [
    {
     "data": {
      "text/html": [
       "<div>\n",
       "<style>\n",
       "    .dataframe thead tr:only-child th {\n",
       "        text-align: right;\n",
       "    }\n",
       "\n",
       "    .dataframe thead th {\n",
       "        text-align: left;\n",
       "    }\n",
       "\n",
       "    .dataframe tbody tr th {\n",
       "        vertical-align: top;\n",
       "    }\n",
       "</style>\n",
       "<table border=\"1\" class=\"dataframe\">\n",
       "  <thead>\n",
       "    <tr style=\"text-align: right;\">\n",
       "      <th></th>\n",
       "      <th>Male</th>\n",
       "      <th>Female</th>\n",
       "      <th>TotalExp</th>\n",
       "      <th>FoodExp</th>\n",
       "      <th>ExpRating</th>\n",
       "    </tr>\n",
       "  </thead>\n",
       "  <tbody>\n",
       "    <tr>\n",
       "      <th>Bosnia and Herzegovina</th>\n",
       "      <td>25.8</td>\n",
       "      <td>24.6</td>\n",
       "      <td>4075.1</td>\n",
       "      <td>1274.6</td>\n",
       "      <td>25</td>\n",
       "    </tr>\n",
       "    <tr>\n",
       "      <th>France</th>\n",
       "      <td>26.0</td>\n",
       "      <td>24.4</td>\n",
       "      <td>23836.8</td>\n",
       "      <td>3190.0</td>\n",
       "      <td>72</td>\n",
       "    </tr>\n",
       "    <tr>\n",
       "      <th>Austria</th>\n",
       "      <td>26.6</td>\n",
       "      <td>24.5</td>\n",
       "      <td>27383.9</td>\n",
       "      <td>2730.3</td>\n",
       "      <td>79</td>\n",
       "    </tr>\n",
       "    <tr>\n",
       "      <th>Denmark</th>\n",
       "      <td>25.9</td>\n",
       "      <td>24.5</td>\n",
       "      <td>28228.0</td>\n",
       "      <td>3234.9</td>\n",
       "      <td>81</td>\n",
       "    </tr>\n",
       "    <tr>\n",
       "      <th>Switzerland</th>\n",
       "      <td>26.4</td>\n",
       "      <td>23.7</td>\n",
       "      <td>45386.5</td>\n",
       "      <td>4072.4</td>\n",
       "      <td>85</td>\n",
       "    </tr>\n",
       "  </tbody>\n",
       "</table>\n",
       "</div>"
      ],
      "text/plain": [
       "                        Male  Female  TotalExp  FoodExp  ExpRating\n",
       "Bosnia and Herzegovina  25.8    24.6    4075.1   1274.6         25\n",
       "France                  26.0    24.4   23836.8   3190.0         72\n",
       "Austria                 26.6    24.5   27383.9   2730.3         79\n",
       "Denmark                 25.9    24.5   28228.0   3234.9         81\n",
       "Switzerland             26.4    23.7   45386.5   4072.4         85"
      ]
     },
     "execution_count": 103,
     "metadata": {},
     "output_type": "execute_result"
    }
   ],
   "source": [
    "bmi_and_expend_data[\n",
    "    (bmi_and_expend_data.Male > 25) & (bmi_and_expend_data.Female < 25)\n",
    "].sort_values('ExpRating')"
   ]
  },
  {
   "cell_type": "code",
   "execution_count": 104,
   "metadata": {},
   "outputs": [
    {
     "data": {
      "text/plain": [
       "Male           26.2\n",
       "Female         26.1\n",
       "TotalExp     2893.7\n",
       "FoodExp      1090.1\n",
       "ExpRating      15.0\n",
       "Name: Ukraine, dtype: float64"
      ]
     },
     "execution_count": 104,
     "metadata": {},
     "output_type": "execute_result"
    }
   ],
   "source": [
    "bmi_and_expend_data.loc['Ukraine']"
   ]
  },
  {
   "cell_type": "code",
   "execution_count": 105,
   "metadata": {},
   "outputs": [
    {
     "data": {
      "text/plain": [
       "Male            27.0\n",
       "Female          25.6\n",
       "TotalExp     24329.3\n",
       "FoodExp       2477.2\n",
       "ExpRating       74.0\n",
       "Name: Germany, dtype: float64"
      ]
     },
     "execution_count": 105,
     "metadata": {},
     "output_type": "execute_result"
    }
   ],
   "source": [
    "bmi_and_expend_data.loc['Germany']"
   ]
  },
  {
   "cell_type": "code",
   "execution_count": 106,
   "metadata": {},
   "outputs": [
    {
     "data": {
      "text/plain": [
       "Male            28.9\n",
       "Female          28.6\n",
       "TotalExp     35160.6\n",
       "FoodExp       2347.2\n",
       "ExpRating       82.0\n",
       "Name: United States, dtype: float64"
      ]
     },
     "execution_count": 106,
     "metadata": {},
     "output_type": "execute_result"
    }
   ],
   "source": [
    "bmi_and_expend_data.loc['United States']"
   ]
  },
  {
   "cell_type": "code",
   "execution_count": null,
   "metadata": {
    "collapsed": true
   },
   "outputs": [],
   "source": []
  }
 ],
 "metadata": {
  "kernelspec": {
   "display_name": "food",
   "language": "python",
   "name": "medic_tests"
  },
  "language_info": {
   "codemirror_mode": {
    "name": "ipython",
    "version": 3
   },
   "file_extension": ".py",
   "mimetype": "text/x-python",
   "name": "python",
   "nbconvert_exporter": "python",
   "pygments_lexer": "ipython3",
   "version": "3.6.2"
  }
 },
 "nbformat": 4,
 "nbformat_minor": 2
}
